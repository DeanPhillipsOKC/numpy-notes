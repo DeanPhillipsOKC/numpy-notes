{
  "nbformat": 4,
  "nbformat_minor": 0,
  "metadata": {
    "anaconda-cloud": {},
    "kernelspec": {
      "display_name": "Python 3",
      "language": "python",
      "name": "python3"
    },
    "language_info": {
      "codemirror_mode": {
        "name": "ipython",
        "version": 3
      },
      "file_extension": ".py",
      "mimetype": "text/x-python",
      "name": "python",
      "nbconvert_exporter": "python",
      "pygments_lexer": "ipython3",
      "version": "3.7.4"
    },
    "colab": {
      "name": "03-NumPy-Exercises.ipynb",
      "provenance": [],
      "include_colab_link": true
    }
  },
  "cells": [
    {
      "cell_type": "markdown",
      "metadata": {
        "id": "view-in-github",
        "colab_type": "text"
      },
      "source": [
        "<a href=\"https://colab.research.google.com/github/DeanPhillipsOKC/numpy-notes/blob/master/03_NumPy_Exercises.ipynb\" target=\"_parent\"><img src=\"https://colab.research.google.com/assets/colab-badge.svg\" alt=\"Open In Colab\"/></a>"
      ]
    },
    {
      "cell_type": "markdown",
      "metadata": {
        "id": "fGGuFLD-XW2q",
        "colab_type": "text"
      },
      "source": [
        "___\n",
        "\n",
        "<a href='http://www.pieriandata.com'><img src='../Pierian_Data_Logo.png'/></a>\n",
        "___\n",
        "<center><em>Copyright Pierian Data</em></center>\n",
        "<center><em>For more information, visit us at <a href='http://www.pieriandata.com'>www.pieriandata.com</a></em></center>"
      ]
    },
    {
      "cell_type": "markdown",
      "metadata": {
        "id": "srXw8vJ7XW2t",
        "colab_type": "text"
      },
      "source": [
        "# NumPy Exercises\n",
        "\n",
        "Now that we've learned about NumPy let's test your knowledge. We'll start off with a few simple tasks and then you'll be asked some more complicated questions.\n",
        "\n",
        "<div class=\"alert alert-danger\" style=\"margin: 10px\"><strong>IMPORTANT NOTE!</strong> Make sure you don't run the cells directly above the example output shown, <br>otherwise you will end up writing over the example output!</div>"
      ]
    },
    {
      "cell_type": "markdown",
      "metadata": {
        "id": "CU1EdS5JXW2u",
        "colab_type": "text"
      },
      "source": [
        "#### 1. Import NumPy as np"
      ]
    },
    {
      "cell_type": "code",
      "metadata": {
        "id": "hcmnr872XW2w",
        "colab_type": "code",
        "colab": {}
      },
      "source": [
        "import numpy as np"
      ],
      "execution_count": 0,
      "outputs": []
    },
    {
      "cell_type": "markdown",
      "metadata": {
        "id": "cTi0AkYxXW2z",
        "colab_type": "text"
      },
      "source": [
        "#### 2. Create an array of 10 zeros "
      ]
    },
    {
      "cell_type": "code",
      "metadata": {
        "id": "Ruatb7eBXW20",
        "colab_type": "code",
        "outputId": "bdf990ba-76dc-472e-9359-85e6cbcf5749",
        "colab": {
          "base_uri": "https://localhost:8080/",
          "height": 34
        }
      },
      "source": [
        "# CODE HERE\n",
        "np.zeros(10)"
      ],
      "execution_count": 0,
      "outputs": [
        {
          "output_type": "execute_result",
          "data": {
            "text/plain": [
              "array([0., 0., 0., 0., 0., 0., 0., 0., 0., 0.])"
            ]
          },
          "metadata": {
            "tags": []
          },
          "execution_count": 3
        }
      ]
    },
    {
      "cell_type": "code",
      "metadata": {
        "id": "Q4GnJfWDXW23",
        "colab_type": "code",
        "outputId": "90184420-8a13-45ab-c1c1-2cd4e75f0454",
        "colab": {}
      },
      "source": [
        "# DON'T WRITE HERE"
      ],
      "execution_count": 0,
      "outputs": [
        {
          "output_type": "execute_result",
          "data": {
            "text/plain": [
              "array([0., 0., 0., 0., 0., 0., 0., 0., 0., 0.])"
            ]
          },
          "metadata": {
            "tags": []
          },
          "execution_count": 2
        }
      ]
    },
    {
      "cell_type": "markdown",
      "metadata": {
        "id": "cNTX1hKXXW27",
        "colab_type": "text"
      },
      "source": [
        "#### 3. Create an array of 10 ones"
      ]
    },
    {
      "cell_type": "code",
      "metadata": {
        "id": "ARqF_QzlXW27",
        "colab_type": "code",
        "outputId": "74c0a909-966f-4206-e459-8cf1ab8fa600",
        "colab": {
          "base_uri": "https://localhost:8080/",
          "height": 34
        }
      },
      "source": [
        "np.ones(10)"
      ],
      "execution_count": 0,
      "outputs": [
        {
          "output_type": "execute_result",
          "data": {
            "text/plain": [
              "array([1., 1., 1., 1., 1., 1., 1., 1., 1., 1.])"
            ]
          },
          "metadata": {
            "tags": []
          },
          "execution_count": 4
        }
      ]
    },
    {
      "cell_type": "code",
      "metadata": {
        "id": "HtbLKDJhXW2-",
        "colab_type": "code",
        "outputId": "02dc5805-8301-4edb-8213-9977fd62e60a",
        "colab": {}
      },
      "source": [
        "# DON'T WRITE HERE"
      ],
      "execution_count": 0,
      "outputs": [
        {
          "output_type": "execute_result",
          "data": {
            "text/plain": [
              "array([1., 1., 1., 1., 1., 1., 1., 1., 1., 1.])"
            ]
          },
          "metadata": {
            "tags": []
          },
          "execution_count": 3
        }
      ]
    },
    {
      "cell_type": "markdown",
      "metadata": {
        "id": "4IQaL3Q3XW3B",
        "colab_type": "text"
      },
      "source": [
        "#### 4. Create an array of 10 fives"
      ]
    },
    {
      "cell_type": "code",
      "metadata": {
        "id": "D5hZOU83XW3C",
        "colab_type": "code",
        "outputId": "d38cb42a-d58b-4c0a-a3b8-32f41766ad28",
        "colab": {
          "base_uri": "https://localhost:8080/",
          "height": 34
        }
      },
      "source": [
        "np.full(10, 5, dtype=float)"
      ],
      "execution_count": 0,
      "outputs": [
        {
          "output_type": "execute_result",
          "data": {
            "text/plain": [
              "array([5., 5., 5., 5., 5., 5., 5., 5., 5., 5.])"
            ]
          },
          "metadata": {
            "tags": []
          },
          "execution_count": 10
        }
      ]
    },
    {
      "cell_type": "code",
      "metadata": {
        "id": "du58j_2WXW3E",
        "colab_type": "code",
        "outputId": "cc7e1ec7-6258-4a9e-caed-a96dafefe511",
        "colab": {}
      },
      "source": [
        "# DON'T WRITE HERE"
      ],
      "execution_count": 0,
      "outputs": [
        {
          "output_type": "execute_result",
          "data": {
            "text/plain": [
              "array([5., 5., 5., 5., 5., 5., 5., 5., 5., 5.])"
            ]
          },
          "metadata": {
            "tags": []
          },
          "execution_count": 4
        }
      ]
    },
    {
      "cell_type": "markdown",
      "metadata": {
        "id": "mQ6YkUEkXW3H",
        "colab_type": "text"
      },
      "source": [
        "#### 5. Create an array of the integers from 10 to 50"
      ]
    },
    {
      "cell_type": "code",
      "metadata": {
        "id": "iUFY8J8YXW3I",
        "colab_type": "code",
        "outputId": "4a2f4795-580f-49e9-eb03-e10cf58ac980",
        "colab": {
          "base_uri": "https://localhost:8080/",
          "height": 68
        }
      },
      "source": [
        "np.arange(10, 51)"
      ],
      "execution_count": 0,
      "outputs": [
        {
          "output_type": "execute_result",
          "data": {
            "text/plain": [
              "array([10, 11, 12, 13, 14, 15, 16, 17, 18, 19, 20, 21, 22, 23, 24, 25, 26,\n",
              "       27, 28, 29, 30, 31, 32, 33, 34, 35, 36, 37, 38, 39, 40, 41, 42, 43,\n",
              "       44, 45, 46, 47, 48, 49, 50])"
            ]
          },
          "metadata": {
            "tags": []
          },
          "execution_count": 11
        }
      ]
    },
    {
      "cell_type": "code",
      "metadata": {
        "id": "ooDFS4qRXW3K",
        "colab_type": "code",
        "outputId": "b58d5abe-a021-4a48-f64b-5ee9bdd4c7e2",
        "colab": {}
      },
      "source": [
        "# DON'T WRITE HERE"
      ],
      "execution_count": 0,
      "outputs": [
        {
          "output_type": "execute_result",
          "data": {
            "text/plain": [
              "array([10, 11, 12, 13, 14, 15, 16, 17, 18, 19, 20, 21, 22, 23, 24, 25, 26,\n",
              "       27, 28, 29, 30, 31, 32, 33, 34, 35, 36, 37, 38, 39, 40, 41, 42, 43,\n",
              "       44, 45, 46, 47, 48, 49, 50])"
            ]
          },
          "metadata": {
            "tags": []
          },
          "execution_count": 5
        }
      ]
    },
    {
      "cell_type": "markdown",
      "metadata": {
        "id": "6KGG5NHKXW3M",
        "colab_type": "text"
      },
      "source": [
        "#### 6. Create an array of all the even integers from 10 to 50"
      ]
    },
    {
      "cell_type": "code",
      "metadata": {
        "id": "gesnT8_6XW3N",
        "colab_type": "code",
        "outputId": "0e8e1704-4aff-4442-9630-8e3975d43b99",
        "colab": {
          "base_uri": "https://localhost:8080/",
          "height": 51
        }
      },
      "source": [
        "np.arange(10, 51, 2)"
      ],
      "execution_count": 0,
      "outputs": [
        {
          "output_type": "execute_result",
          "data": {
            "text/plain": [
              "array([10, 12, 14, 16, 18, 20, 22, 24, 26, 28, 30, 32, 34, 36, 38, 40, 42,\n",
              "       44, 46, 48, 50])"
            ]
          },
          "metadata": {
            "tags": []
          },
          "execution_count": 13
        }
      ]
    },
    {
      "cell_type": "code",
      "metadata": {
        "id": "-QoXjw-aXW3P",
        "colab_type": "code",
        "outputId": "16380b54-53de-4621-8922-d0b262976771",
        "colab": {}
      },
      "source": [
        "# DON'T WRITE HERE"
      ],
      "execution_count": 0,
      "outputs": [
        {
          "output_type": "execute_result",
          "data": {
            "text/plain": [
              "array([10, 12, 14, 16, 18, 20, 22, 24, 26, 28, 30, 32, 34, 36, 38, 40, 42,\n",
              "       44, 46, 48, 50])"
            ]
          },
          "metadata": {
            "tags": []
          },
          "execution_count": 6
        }
      ]
    },
    {
      "cell_type": "markdown",
      "metadata": {
        "id": "UjjlNkzPXW3R",
        "colab_type": "text"
      },
      "source": [
        "#### 7. Create a 3x3 matrix with values ranging from 0 to 8"
      ]
    },
    {
      "cell_type": "code",
      "metadata": {
        "id": "oxssU-mTXW3S",
        "colab_type": "code",
        "outputId": "64d9b6ac-de1c-43f8-8088-3fa9160b2731",
        "colab": {
          "base_uri": "https://localhost:8080/",
          "height": 68
        }
      },
      "source": [
        "np.arange(0, 9).reshape(3, 3)"
      ],
      "execution_count": 0,
      "outputs": [
        {
          "output_type": "execute_result",
          "data": {
            "text/plain": [
              "array([[0, 1, 2],\n",
              "       [3, 4, 5],\n",
              "       [6, 7, 8]])"
            ]
          },
          "metadata": {
            "tags": []
          },
          "execution_count": 15
        }
      ]
    },
    {
      "cell_type": "code",
      "metadata": {
        "id": "zwP4XX3TXW3U",
        "colab_type": "code",
        "outputId": "271a30c5-f32f-4322-bec4-e00aa4d9a4fd",
        "colab": {}
      },
      "source": [
        "# DON'T WRITE HERE"
      ],
      "execution_count": 0,
      "outputs": [
        {
          "output_type": "execute_result",
          "data": {
            "text/plain": [
              "array([[0, 1, 2],\n",
              "       [3, 4, 5],\n",
              "       [6, 7, 8]])"
            ]
          },
          "metadata": {
            "tags": []
          },
          "execution_count": 7
        }
      ]
    },
    {
      "cell_type": "markdown",
      "metadata": {
        "id": "sVZ0YsNVXW3X",
        "colab_type": "text"
      },
      "source": [
        "#### 8. Create a 3x3 identity matrix"
      ]
    },
    {
      "cell_type": "code",
      "metadata": {
        "id": "10TXTOvAXW3Y",
        "colab_type": "code",
        "outputId": "77dd2b16-3d57-460f-b5fc-5b9cc57b18af",
        "colab": {
          "base_uri": "https://localhost:8080/",
          "height": 68
        }
      },
      "source": [
        "np.eye(3, 3)"
      ],
      "execution_count": 0,
      "outputs": [
        {
          "output_type": "execute_result",
          "data": {
            "text/plain": [
              "array([[1., 0., 0.],\n",
              "       [0., 1., 0.],\n",
              "       [0., 0., 1.]])"
            ]
          },
          "metadata": {
            "tags": []
          },
          "execution_count": 16
        }
      ]
    },
    {
      "cell_type": "code",
      "metadata": {
        "id": "_a2K7gy4XW3a",
        "colab_type": "code",
        "outputId": "f7153e90-3f6b-43c2-c6c4-f197dd399c63",
        "colab": {}
      },
      "source": [
        "# DON'T WRITE HERE"
      ],
      "execution_count": 0,
      "outputs": [
        {
          "output_type": "execute_result",
          "data": {
            "text/plain": [
              "array([[1., 0., 0.],\n",
              "       [0., 1., 0.],\n",
              "       [0., 0., 1.]])"
            ]
          },
          "metadata": {
            "tags": []
          },
          "execution_count": 8
        }
      ]
    },
    {
      "cell_type": "markdown",
      "metadata": {
        "id": "WN_7b0ADXW3d",
        "colab_type": "text"
      },
      "source": [
        "#### 9. Use NumPy to generate a random number between 0 and 1<br><br>&emsp;NOTE: Your result's value should be different from the one shown below."
      ]
    },
    {
      "cell_type": "code",
      "metadata": {
        "id": "jdw81nD_XW3d",
        "colab_type": "code",
        "outputId": "09f90ec4-c82f-4a06-8621-7e7162e2116f",
        "colab": {
          "base_uri": "https://localhost:8080/",
          "height": 34
        }
      },
      "source": [
        "np.random.rand()"
      ],
      "execution_count": 0,
      "outputs": [
        {
          "output_type": "execute_result",
          "data": {
            "text/plain": [
              "0.7203819595752391"
            ]
          },
          "metadata": {
            "tags": []
          },
          "execution_count": 18
        }
      ]
    },
    {
      "cell_type": "code",
      "metadata": {
        "id": "iFrhVs5CXW3g",
        "colab_type": "code",
        "outputId": "6a0e8483-83a1-44bd-e038-e46f49648f22",
        "colab": {}
      },
      "source": [
        "# DON'T WRITE HERE"
      ],
      "execution_count": 0,
      "outputs": [
        {
          "output_type": "execute_result",
          "data": {
            "text/plain": [
              "array([0.65248055])"
            ]
          },
          "metadata": {
            "tags": []
          },
          "execution_count": 9
        }
      ]
    },
    {
      "cell_type": "markdown",
      "metadata": {
        "id": "_3JBAp4IXW3j",
        "colab_type": "text"
      },
      "source": [
        "#### 10. Use NumPy to generate an array of 25 random numbers sampled from a standard normal distribution<br><br>&emsp;&ensp;NOTE: Your result's values should be different from the ones shown below."
      ]
    },
    {
      "cell_type": "code",
      "metadata": {
        "id": "DCfnS6qJXW3k",
        "colab_type": "code",
        "outputId": "ffbfe1e0-9acb-47a0-9cd3-f4e6ea2c93d8",
        "colab": {
          "base_uri": "https://localhost:8080/",
          "height": 102
        }
      },
      "source": [
        "np.random.rand(25)"
      ],
      "execution_count": 0,
      "outputs": [
        {
          "output_type": "execute_result",
          "data": {
            "text/plain": [
              "array([0.16532117, 0.04321542, 0.51153985, 0.23964442, 0.12881084,\n",
              "       0.52540417, 0.97227452, 0.89982612, 0.04477435, 0.53753092,\n",
              "       0.15165202, 0.71516437, 0.33782062, 0.29337212, 0.10771969,\n",
              "       0.87006842, 0.79809239, 0.95235059, 0.06918593, 0.24457197,\n",
              "       0.33338885, 0.67879392, 0.27953191, 0.27979255, 0.72146452])"
            ]
          },
          "metadata": {
            "tags": []
          },
          "execution_count": 19
        }
      ]
    },
    {
      "cell_type": "code",
      "metadata": {
        "id": "eHlt1IdLXW3n",
        "colab_type": "code",
        "outputId": "2ac25b6b-b93f-40b4-8288-5c00c4935f59",
        "colab": {}
      },
      "source": [
        "# DON'T WRITE HERE"
      ],
      "execution_count": 0,
      "outputs": [
        {
          "output_type": "execute_result",
          "data": {
            "text/plain": [
              "array([ 1.80076712, -1.12375847, -0.98524305,  0.11673573,  1.96346762,\n",
              "        1.81378592, -0.33790771,  0.85012656,  0.0100703 , -0.91005957,\n",
              "        0.29064366,  0.69906357,  0.1774377 , -0.61958694, -0.45498611,\n",
              "       -2.0804685 , -0.06778549,  1.06403819,  0.4311884 , -1.09853837,\n",
              "        1.11980469, -0.48751963,  1.32517611, -0.61775122, -0.00622865])"
            ]
          },
          "metadata": {
            "tags": []
          },
          "execution_count": 10
        }
      ]
    },
    {
      "cell_type": "markdown",
      "metadata": {
        "id": "064sks2vXW3p",
        "colab_type": "text"
      },
      "source": [
        "#### 11. Create the following matrix:"
      ]
    },
    {
      "cell_type": "code",
      "metadata": {
        "id": "13sNcT1KXW3q",
        "colab_type": "code",
        "outputId": "c873240b-427e-4f64-9895-f8334fe38df4",
        "colab": {
          "base_uri": "https://localhost:8080/",
          "height": 187
        }
      },
      "source": [
        "np.arange(0.01, 1.01, 0.01, float).reshape(10, 10)"
      ],
      "execution_count": 0,
      "outputs": [
        {
          "output_type": "execute_result",
          "data": {
            "text/plain": [
              "array([[0.01, 0.02, 0.03, 0.04, 0.05, 0.06, 0.07, 0.08, 0.09, 0.1 ],\n",
              "       [0.11, 0.12, 0.13, 0.14, 0.15, 0.16, 0.17, 0.18, 0.19, 0.2 ],\n",
              "       [0.21, 0.22, 0.23, 0.24, 0.25, 0.26, 0.27, 0.28, 0.29, 0.3 ],\n",
              "       [0.31, 0.32, 0.33, 0.34, 0.35, 0.36, 0.37, 0.38, 0.39, 0.4 ],\n",
              "       [0.41, 0.42, 0.43, 0.44, 0.45, 0.46, 0.47, 0.48, 0.49, 0.5 ],\n",
              "       [0.51, 0.52, 0.53, 0.54, 0.55, 0.56, 0.57, 0.58, 0.59, 0.6 ],\n",
              "       [0.61, 0.62, 0.63, 0.64, 0.65, 0.66, 0.67, 0.68, 0.69, 0.7 ],\n",
              "       [0.71, 0.72, 0.73, 0.74, 0.75, 0.76, 0.77, 0.78, 0.79, 0.8 ],\n",
              "       [0.81, 0.82, 0.83, 0.84, 0.85, 0.86, 0.87, 0.88, 0.89, 0.9 ],\n",
              "       [0.91, 0.92, 0.93, 0.94, 0.95, 0.96, 0.97, 0.98, 0.99, 1.  ]])"
            ]
          },
          "metadata": {
            "tags": []
          },
          "execution_count": 22
        }
      ]
    },
    {
      "cell_type": "code",
      "metadata": {
        "id": "CJEbrCJaXW3s",
        "colab_type": "code",
        "outputId": "61ee60ad-121f-429f-d9a4-bb24b013394a",
        "colab": {}
      },
      "source": [
        "# DON'T WRITE HERE"
      ],
      "execution_count": 0,
      "outputs": [
        {
          "output_type": "execute_result",
          "data": {
            "text/plain": [
              "array([[0.01, 0.02, 0.03, 0.04, 0.05, 0.06, 0.07, 0.08, 0.09, 0.1 ],\n",
              "       [0.11, 0.12, 0.13, 0.14, 0.15, 0.16, 0.17, 0.18, 0.19, 0.2 ],\n",
              "       [0.21, 0.22, 0.23, 0.24, 0.25, 0.26, 0.27, 0.28, 0.29, 0.3 ],\n",
              "       [0.31, 0.32, 0.33, 0.34, 0.35, 0.36, 0.37, 0.38, 0.39, 0.4 ],\n",
              "       [0.41, 0.42, 0.43, 0.44, 0.45, 0.46, 0.47, 0.48, 0.49, 0.5 ],\n",
              "       [0.51, 0.52, 0.53, 0.54, 0.55, 0.56, 0.57, 0.58, 0.59, 0.6 ],\n",
              "       [0.61, 0.62, 0.63, 0.64, 0.65, 0.66, 0.67, 0.68, 0.69, 0.7 ],\n",
              "       [0.71, 0.72, 0.73, 0.74, 0.75, 0.76, 0.77, 0.78, 0.79, 0.8 ],\n",
              "       [0.81, 0.82, 0.83, 0.84, 0.85, 0.86, 0.87, 0.88, 0.89, 0.9 ],\n",
              "       [0.91, 0.92, 0.93, 0.94, 0.95, 0.96, 0.97, 0.98, 0.99, 1.  ]])"
            ]
          },
          "metadata": {
            "tags": []
          },
          "execution_count": 11
        }
      ]
    },
    {
      "cell_type": "markdown",
      "metadata": {
        "id": "W9LAOprUXW3u",
        "colab_type": "text"
      },
      "source": [
        "#### 12. Create an array of 20 linearly spaced points between 0 and 1:"
      ]
    },
    {
      "cell_type": "code",
      "metadata": {
        "id": "j8St7OXvXW3v",
        "colab_type": "code",
        "outputId": "0876c74e-4b12-4983-fb26-0706ce51cd52",
        "colab": {
          "base_uri": "https://localhost:8080/",
          "height": 85
        }
      },
      "source": [
        "np.linspace(0, 1, 20)"
      ],
      "execution_count": 0,
      "outputs": [
        {
          "output_type": "execute_result",
          "data": {
            "text/plain": [
              "array([0.        , 0.05263158, 0.10526316, 0.15789474, 0.21052632,\n",
              "       0.26315789, 0.31578947, 0.36842105, 0.42105263, 0.47368421,\n",
              "       0.52631579, 0.57894737, 0.63157895, 0.68421053, 0.73684211,\n",
              "       0.78947368, 0.84210526, 0.89473684, 0.94736842, 1.        ])"
            ]
          },
          "metadata": {
            "tags": []
          },
          "execution_count": 23
        }
      ]
    },
    {
      "cell_type": "code",
      "metadata": {
        "id": "Fb0kJDnbXW3x",
        "colab_type": "code",
        "outputId": "a99060af-650a-42b5-c664-5159839d3cc3",
        "colab": {}
      },
      "source": [
        "# DON'T WRITE HERE"
      ],
      "execution_count": 0,
      "outputs": [
        {
          "output_type": "execute_result",
          "data": {
            "text/plain": [
              "array([0.        , 0.05263158, 0.10526316, 0.15789474, 0.21052632,\n",
              "       0.26315789, 0.31578947, 0.36842105, 0.42105263, 0.47368421,\n",
              "       0.52631579, 0.57894737, 0.63157895, 0.68421053, 0.73684211,\n",
              "       0.78947368, 0.84210526, 0.89473684, 0.94736842, 1.        ])"
            ]
          },
          "metadata": {
            "tags": []
          },
          "execution_count": 12
        }
      ]
    },
    {
      "cell_type": "markdown",
      "metadata": {
        "id": "CvuEqF3VXW3z",
        "colab_type": "text"
      },
      "source": [
        "## Numpy Indexing and Selection\n",
        "\n",
        "Now you will be given a starting matrix (be sure to run the cell below!), and be asked to replicate the resulting matrix outputs:"
      ]
    },
    {
      "cell_type": "code",
      "metadata": {
        "id": "RMOfQKnpXW30",
        "colab_type": "code",
        "outputId": "1e747def-8dd0-4a11-8593-2fb779e597f5",
        "colab": {
          "base_uri": "https://localhost:8080/",
          "height": 102
        }
      },
      "source": [
        "# RUN THIS CELL - THIS IS OUR STARTING MATRIX\n",
        "mat = np.arange(1,26).reshape(5,5)\n",
        "mat"
      ],
      "execution_count": 0,
      "outputs": [
        {
          "output_type": "execute_result",
          "data": {
            "text/plain": [
              "array([[ 1,  2,  3,  4,  5],\n",
              "       [ 6,  7,  8,  9, 10],\n",
              "       [11, 12, 13, 14, 15],\n",
              "       [16, 17, 18, 19, 20],\n",
              "       [21, 22, 23, 24, 25]])"
            ]
          },
          "metadata": {
            "tags": []
          },
          "execution_count": 24
        }
      ]
    },
    {
      "cell_type": "markdown",
      "metadata": {
        "id": "3os-i0T8XW32",
        "colab_type": "text"
      },
      "source": [
        "#### 13. Write code that reproduces the output shown below.<br><br>&emsp;&ensp;Be careful not to run the cell immediately above the output, otherwise you won't be able to see the output any more."
      ]
    },
    {
      "cell_type": "code",
      "metadata": {
        "id": "RDusaSTkXW32",
        "colab_type": "code",
        "outputId": "bd4ff685-177d-48dc-bf52-c3f1f0ad2341",
        "colab": {
          "base_uri": "https://localhost:8080/",
          "height": 68
        }
      },
      "source": [
        "mat[2:, 1:]\n"
      ],
      "execution_count": 0,
      "outputs": [
        {
          "output_type": "execute_result",
          "data": {
            "text/plain": [
              "array([[12, 13, 14, 15],\n",
              "       [17, 18, 19, 20],\n",
              "       [22, 23, 24, 25]])"
            ]
          },
          "metadata": {
            "tags": []
          },
          "execution_count": 28
        }
      ]
    },
    {
      "cell_type": "code",
      "metadata": {
        "id": "gWaNLzHEXW35",
        "colab_type": "code",
        "outputId": "ca476fa4-aca5-4f2e-bac6-4257587990b9",
        "colab": {}
      },
      "source": [
        "# DON'T WRITE HERE"
      ],
      "execution_count": 0,
      "outputs": [
        {
          "output_type": "execute_result",
          "data": {
            "text/plain": [
              "array([[12, 13, 14, 15],\n",
              "       [17, 18, 19, 20],\n",
              "       [22, 23, 24, 25]])"
            ]
          },
          "metadata": {
            "tags": []
          },
          "execution_count": 14
        }
      ]
    },
    {
      "cell_type": "markdown",
      "metadata": {
        "id": "AFc9MMHtXW37",
        "colab_type": "text"
      },
      "source": [
        "#### 14. Write code that reproduces the output shown below."
      ]
    },
    {
      "cell_type": "code",
      "metadata": {
        "id": "s37M1wHUXW38",
        "colab_type": "code",
        "outputId": "0e89cf46-a800-4cb6-80b1-c579602545c7",
        "colab": {
          "base_uri": "https://localhost:8080/",
          "height": 34
        }
      },
      "source": [
        "mat[mat == 20][0]"
      ],
      "execution_count": 0,
      "outputs": [
        {
          "output_type": "execute_result",
          "data": {
            "text/plain": [
              "20"
            ]
          },
          "metadata": {
            "tags": []
          },
          "execution_count": 30
        }
      ]
    },
    {
      "cell_type": "code",
      "metadata": {
        "id": "aYOMlR91XW3_",
        "colab_type": "code",
        "outputId": "9152f55f-d499-4a1e-f625-0e667ef11a75",
        "colab": {}
      },
      "source": [
        "# DON'T WRITE HERE"
      ],
      "execution_count": 0,
      "outputs": [
        {
          "output_type": "execute_result",
          "data": {
            "text/plain": [
              "20"
            ]
          },
          "metadata": {
            "tags": []
          },
          "execution_count": 15
        }
      ]
    },
    {
      "cell_type": "markdown",
      "metadata": {
        "id": "6ZCxwTU7XW4B",
        "colab_type": "text"
      },
      "source": [
        "#### 15. Write code that reproduces the output shown below."
      ]
    },
    {
      "cell_type": "code",
      "metadata": {
        "id": "IE_KI6tjXW4C",
        "colab_type": "code",
        "outputId": "01dcfafb-c1d4-4bc0-ce27-0fefb44e7476",
        "colab": {
          "base_uri": "https://localhost:8080/",
          "height": 68
        }
      },
      "source": [
        "mat[:3, 1].reshape(3, 1)"
      ],
      "execution_count": 0,
      "outputs": [
        {
          "output_type": "execute_result",
          "data": {
            "text/plain": [
              "array([[ 2],\n",
              "       [ 7],\n",
              "       [12]])"
            ]
          },
          "metadata": {
            "tags": []
          },
          "execution_count": 37
        }
      ]
    },
    {
      "cell_type": "code",
      "metadata": {
        "id": "7n-XoVeVXW4E",
        "colab_type": "code",
        "outputId": "16aabec2-cb25-417b-a918-a88f00ff9c3e",
        "colab": {}
      },
      "source": [
        "# DON'T WRITE HERE"
      ],
      "execution_count": 0,
      "outputs": [
        {
          "output_type": "execute_result",
          "data": {
            "text/plain": [
              "array([[ 2],\n",
              "       [ 7],\n",
              "       [12]])"
            ]
          },
          "metadata": {
            "tags": []
          },
          "execution_count": 16
        }
      ]
    },
    {
      "cell_type": "markdown",
      "metadata": {
        "id": "cN_uKc7bXW4G",
        "colab_type": "text"
      },
      "source": [
        "#### 16. Write code that reproduces the output shown below."
      ]
    },
    {
      "cell_type": "code",
      "metadata": {
        "id": "JaDFyYx4XW4G",
        "colab_type": "code",
        "outputId": "055d78cd-e9cf-4fd9-fd94-13fd238a9488",
        "colab": {
          "base_uri": "https://localhost:8080/",
          "height": 34
        }
      },
      "source": [
        "mat[4]"
      ],
      "execution_count": 0,
      "outputs": [
        {
          "output_type": "execute_result",
          "data": {
            "text/plain": [
              "array([21, 22, 23, 24, 25])"
            ]
          },
          "metadata": {
            "tags": []
          },
          "execution_count": 39
        }
      ]
    },
    {
      "cell_type": "code",
      "metadata": {
        "id": "S8qPV90dXW4J",
        "colab_type": "code",
        "outputId": "29bf8620-1503-47c9-d520-98aa2ead66b7",
        "colab": {}
      },
      "source": [
        "# DON'T WRITE HERE"
      ],
      "execution_count": 0,
      "outputs": [
        {
          "output_type": "execute_result",
          "data": {
            "text/plain": [
              "array([21, 22, 23, 24, 25])"
            ]
          },
          "metadata": {
            "tags": []
          },
          "execution_count": 17
        }
      ]
    },
    {
      "cell_type": "markdown",
      "metadata": {
        "id": "XuX0Jd-jXW4L",
        "colab_type": "text"
      },
      "source": [
        "#### 17. Write code that reproduces the output shown below."
      ]
    },
    {
      "cell_type": "code",
      "metadata": {
        "id": "RpfufJWOXW4L",
        "colab_type": "code",
        "outputId": "fdfb3454-cc4c-4c97-ade4-acad5b2ca134",
        "colab": {
          "base_uri": "https://localhost:8080/",
          "height": 51
        }
      },
      "source": [
        "mat[3:]"
      ],
      "execution_count": 0,
      "outputs": [
        {
          "output_type": "execute_result",
          "data": {
            "text/plain": [
              "array([[16, 17, 18, 19, 20],\n",
              "       [21, 22, 23, 24, 25]])"
            ]
          },
          "metadata": {
            "tags": []
          },
          "execution_count": 41
        }
      ]
    },
    {
      "cell_type": "code",
      "metadata": {
        "id": "risoW9nMXW4N",
        "colab_type": "code",
        "outputId": "bdf29969-ad4f-4b79-8d42-7c14c678890a",
        "colab": {}
      },
      "source": [
        "# DON'T WRITE HERE"
      ],
      "execution_count": 0,
      "outputs": [
        {
          "output_type": "execute_result",
          "data": {
            "text/plain": [
              "array([[16, 17, 18, 19, 20],\n",
              "       [21, 22, 23, 24, 25]])"
            ]
          },
          "metadata": {
            "tags": []
          },
          "execution_count": 18
        }
      ]
    },
    {
      "cell_type": "markdown",
      "metadata": {
        "id": "t6eiNJwwXW4P",
        "colab_type": "text"
      },
      "source": [
        "## NumPy Operations"
      ]
    },
    {
      "cell_type": "markdown",
      "metadata": {
        "id": "5wAwL6RhXW4Q",
        "colab_type": "text"
      },
      "source": [
        "#### 18. Get the sum of all the values in mat"
      ]
    },
    {
      "cell_type": "code",
      "metadata": {
        "id": "Q910at_7XW4Q",
        "colab_type": "code",
        "outputId": "cee6d75c-93e7-423b-f265-514130a9e154",
        "colab": {
          "base_uri": "https://localhost:8080/",
          "height": 34
        }
      },
      "source": [
        "mat.sum()"
      ],
      "execution_count": 0,
      "outputs": [
        {
          "output_type": "execute_result",
          "data": {
            "text/plain": [
              "325"
            ]
          },
          "metadata": {
            "tags": []
          },
          "execution_count": 42
        }
      ]
    },
    {
      "cell_type": "code",
      "metadata": {
        "id": "1qQcFK2XXW4S",
        "colab_type": "code",
        "outputId": "f6007b96-0124-4acf-e5eb-61884cbd01b8",
        "colab": {}
      },
      "source": [
        "# DON'T WRITE HERE"
      ],
      "execution_count": 0,
      "outputs": [
        {
          "output_type": "execute_result",
          "data": {
            "text/plain": [
              "325"
            ]
          },
          "metadata": {
            "tags": []
          },
          "execution_count": 19
        }
      ]
    },
    {
      "cell_type": "markdown",
      "metadata": {
        "id": "tXXWcJORXW4U",
        "colab_type": "text"
      },
      "source": [
        "#### 19. Get the standard deviation of the values in mat"
      ]
    },
    {
      "cell_type": "code",
      "metadata": {
        "id": "nxNzUHysXW4V",
        "colab_type": "code",
        "outputId": "325f5f8d-1bf2-4e07-9619-731ec033f53c",
        "colab": {
          "base_uri": "https://localhost:8080/",
          "height": 34
        }
      },
      "source": [
        "mat.std()"
      ],
      "execution_count": 0,
      "outputs": [
        {
          "output_type": "execute_result",
          "data": {
            "text/plain": [
              "7.211102550927978"
            ]
          },
          "metadata": {
            "tags": []
          },
          "execution_count": 43
        }
      ]
    },
    {
      "cell_type": "code",
      "metadata": {
        "id": "rPIXE0Z8XW4Y",
        "colab_type": "code",
        "outputId": "60cbf390-7b10-491c-dd28-7f8173b8274a",
        "colab": {}
      },
      "source": [
        "# DON'T WRITE HERE"
      ],
      "execution_count": 0,
      "outputs": [
        {
          "output_type": "execute_result",
          "data": {
            "text/plain": [
              "7.211102550927978"
            ]
          },
          "metadata": {
            "tags": []
          },
          "execution_count": 20
        }
      ]
    },
    {
      "cell_type": "markdown",
      "metadata": {
        "id": "xiL_EboNXW4b",
        "colab_type": "text"
      },
      "source": [
        "#### 20. Get the sum of all the columns in mat"
      ]
    },
    {
      "cell_type": "code",
      "metadata": {
        "id": "5MpThOmDXW4b",
        "colab_type": "code",
        "outputId": "4ac8f944-db6f-4a15-8d63-3d05efae1f12",
        "colab": {
          "base_uri": "https://localhost:8080/",
          "height": 34
        }
      },
      "source": [
        "mat.sum(axis=0)"
      ],
      "execution_count": 0,
      "outputs": [
        {
          "output_type": "execute_result",
          "data": {
            "text/plain": [
              "array([55, 60, 65, 70, 75])"
            ]
          },
          "metadata": {
            "tags": []
          },
          "execution_count": 44
        }
      ]
    },
    {
      "cell_type": "code",
      "metadata": {
        "id": "MJkvNiI2XW4d",
        "colab_type": "code",
        "outputId": "2257cdf0-e44d-45fd-d24c-8b15e3d2300c",
        "colab": {}
      },
      "source": [
        "# DON'T WRITE HERE"
      ],
      "execution_count": 0,
      "outputs": [
        {
          "output_type": "execute_result",
          "data": {
            "text/plain": [
              "array([55, 60, 65, 70, 75])"
            ]
          },
          "metadata": {
            "tags": []
          },
          "execution_count": 21
        }
      ]
    },
    {
      "cell_type": "markdown",
      "metadata": {
        "id": "ZPbHeK1TXW4f",
        "colab_type": "text"
      },
      "source": [
        "## Bonus Question\n",
        "We worked a lot with random data with numpy, but is there a way we can insure that we always get the same random numbers? What does the seed value mean? Does it matter what the actual number is? [Click Here for a Hint](https://www.google.com/search?q=numpy+random+seed)"
      ]
    },
    {
      "cell_type": "code",
      "metadata": {
        "id": "zO5k8iaLXW4g",
        "colab_type": "code",
        "outputId": "2319d7ee-b673-45bf-d340-43750fc68e01",
        "colab": {
          "base_uri": "https://localhost:8080/",
          "height": 51
        }
      },
      "source": [
        "np.random.seed(42)\n",
        "np.full(10, np.random.rand())"
      ],
      "execution_count": 0,
      "outputs": [
        {
          "output_type": "execute_result",
          "data": {
            "text/plain": [
              "array([0.37454012, 0.37454012, 0.37454012, 0.37454012, 0.37454012,\n",
              "       0.37454012, 0.37454012, 0.37454012, 0.37454012, 0.37454012])"
            ]
          },
          "metadata": {
            "tags": []
          },
          "execution_count": 47
        }
      ]
    },
    {
      "cell_type": "markdown",
      "metadata": {
        "collapsed": true,
        "id": "AOAASIzoXW4j",
        "colab_type": "text"
      },
      "source": [
        "# Great Job!"
      ]
    }
  ]
}