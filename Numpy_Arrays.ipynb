{
  "nbformat": 4,
  "nbformat_minor": 0,
  "metadata": {
    "colab": {
      "name": "Numpy Arrays.ipynb",
      "provenance": [],
      "collapsed_sections": [],
      "include_colab_link": true
    },
    "kernelspec": {
      "name": "python3",
      "display_name": "Python 3"
    }
  },
  "cells": [
    {
      "cell_type": "markdown",
      "metadata": {
        "id": "view-in-github",
        "colab_type": "text"
      },
      "source": [
        "<a href=\"https://colab.research.google.com/github/DeanPhillipsOKC/numpy-notes/blob/master/Numpy_Arrays.ipynb\" target=\"_parent\"><img src=\"https://colab.research.google.com/assets/colab-badge.svg\" alt=\"Open In Colab\"/></a>"
      ]
    },
    {
      "cell_type": "code",
      "metadata": {
        "id": "NEbBhsMVUWGV",
        "colab_type": "code",
        "colab": {}
      },
      "source": [
        "import numpy as np"
      ],
      "execution_count": 0,
      "outputs": []
    },
    {
      "cell_type": "markdown",
      "metadata": {
        "id": "iEngSf9fP6wW",
        "colab_type": "text"
      },
      "source": [
        "# Exercise 1: Transforming Python lists to NumPy arrays"
      ]
    },
    {
      "cell_type": "markdown",
      "metadata": {
        "id": "J43tZW_8PdB4",
        "colab_type": "text"
      },
      "source": [
        "Declare a 1d, and 2d array"
      ]
    },
    {
      "cell_type": "code",
      "metadata": {
        "id": "CQuOddq_O6PN",
        "colab_type": "code",
        "colab": {}
      },
      "source": [
        "array_1d = [1, 2, 3]"
      ],
      "execution_count": 0,
      "outputs": []
    },
    {
      "cell_type": "code",
      "metadata": {
        "id": "fx4A_zU3O_Jf",
        "colab_type": "code",
        "colab": {}
      },
      "source": [
        "array_2d = [[1, 2], [3, 4], [5, 6]]"
      ],
      "execution_count": 0,
      "outputs": []
    },
    {
      "cell_type": "markdown",
      "metadata": {
        "id": "7fHnLhGAPh-M",
        "colab_type": "text"
      },
      "source": [
        "Print the arrays as normal python arrays"
      ]
    },
    {
      "cell_type": "code",
      "metadata": {
        "id": "aiKvp1tCPHfG",
        "colab_type": "code",
        "outputId": "fbd8c5fe-0621-4d95-a30a-8fa37aa40fce",
        "colab": {
          "base_uri": "https://localhost:8080/",
          "height": 34
        }
      },
      "source": [
        "array_1d"
      ],
      "execution_count": 0,
      "outputs": [
        {
          "output_type": "execute_result",
          "data": {
            "text/plain": [
              "[1, 2, 3]"
            ]
          },
          "metadata": {
            "tags": []
          },
          "execution_count": 6
        }
      ]
    },
    {
      "cell_type": "code",
      "metadata": {
        "id": "Kn84LXjKPMXo",
        "colab_type": "code",
        "outputId": "5b14b857-7c71-44cd-d1b2-5999b4bf36a4",
        "colab": {
          "base_uri": "https://localhost:8080/",
          "height": 34
        }
      },
      "source": [
        "array_2d"
      ],
      "execution_count": 0,
      "outputs": [
        {
          "output_type": "execute_result",
          "data": {
            "text/plain": [
              "[[1, 2], [3, 4], [5, 6]]"
            ]
          },
          "metadata": {
            "tags": []
          },
          "execution_count": 7
        }
      ]
    },
    {
      "cell_type": "markdown",
      "metadata": {
        "id": "dpITc4EkPnWy",
        "colab_type": "text"
      },
      "source": [
        "Now print them as NumPy arrays (notice how the 2d one is shown as a 3x2 matrix)"
      ]
    },
    {
      "cell_type": "code",
      "metadata": {
        "id": "xRE_DskrPNWK",
        "colab_type": "code",
        "outputId": "b468c24d-209b-4383-8ec4-498456092058",
        "colab": {
          "base_uri": "https://localhost:8080/",
          "height": 34
        }
      },
      "source": [
        "np.array(array_1d)"
      ],
      "execution_count": 0,
      "outputs": [
        {
          "output_type": "execute_result",
          "data": {
            "text/plain": [
              "array([1, 2, 3])"
            ]
          },
          "metadata": {
            "tags": []
          },
          "execution_count": 8
        }
      ]
    },
    {
      "cell_type": "code",
      "metadata": {
        "id": "qmc0TwmGPQYl",
        "colab_type": "code",
        "outputId": "77d66adc-6434-417a-c063-8c566d29bc7a",
        "colab": {
          "base_uri": "https://localhost:8080/",
          "height": 68
        }
      },
      "source": [
        "np.array(array_2d)"
      ],
      "execution_count": 0,
      "outputs": [
        {
          "output_type": "execute_result",
          "data": {
            "text/plain": [
              "array([[1, 2],\n",
              "       [3, 4],\n",
              "       [5, 6]])"
            ]
          },
          "metadata": {
            "tags": []
          },
          "execution_count": 9
        }
      ]
    },
    {
      "cell_type": "markdown",
      "metadata": {
        "id": "mlp6az0yQF81",
        "colab_type": "text"
      },
      "source": [
        "# Exercise 2: Generating Deterministic NumPy Arrays"
      ]
    },
    {
      "cell_type": "markdown",
      "metadata": {
        "id": "QcbJGMzOQszK",
        "colab_type": "text"
      },
      "source": [
        "## np.arrange"
      ]
    },
    {
      "cell_type": "markdown",
      "metadata": {
        "id": "GyQrCY8ARRo8",
        "colab_type": "text"
      },
      "source": [
        "Create a 10 element array starting at 0\n"
      ]
    },
    {
      "cell_type": "code",
      "metadata": {
        "id": "09MgG5UfPSnu",
        "colab_type": "code",
        "outputId": "aea01fc2-08db-485a-c838-c7c1ec77edbc",
        "colab": {
          "base_uri": "https://localhost:8080/",
          "height": 34
        }
      },
      "source": [
        "np.arange(0, 10)"
      ],
      "execution_count": 0,
      "outputs": [
        {
          "output_type": "execute_result",
          "data": {
            "text/plain": [
              "array([0, 1, 2, 3, 4, 5, 6, 7, 8, 9])"
            ]
          },
          "metadata": {
            "tags": []
          },
          "execution_count": 12
        }
      ]
    },
    {
      "cell_type": "markdown",
      "metadata": {
        "id": "pFJIYnvBRkeY",
        "colab_type": "text"
      },
      "source": [
        "Create a 5 element of even numbers starting at 0"
      ]
    },
    {
      "cell_type": "code",
      "metadata": {
        "id": "FtXtHjc5RAki",
        "colab_type": "code",
        "outputId": "9095ba72-c4ad-4386-cae8-b055a6dfa417",
        "colab": {
          "base_uri": "https://localhost:8080/",
          "height": 34
        }
      },
      "source": [
        "np.arange(0, 10, 2)"
      ],
      "execution_count": 0,
      "outputs": [
        {
          "output_type": "execute_result",
          "data": {
            "text/plain": [
              "array([0, 2, 4, 6, 8])"
            ]
          },
          "metadata": {
            "tags": []
          },
          "execution_count": 13
        }
      ]
    },
    {
      "cell_type": "markdown",
      "metadata": {
        "id": "LkfwXn64RvxR",
        "colab_type": "text"
      },
      "source": [
        "## np.zeros"
      ]
    },
    {
      "cell_type": "markdown",
      "metadata": {
        "id": "QAPY5vpbSoy3",
        "colab_type": "text"
      },
      "source": [
        "Create a five element array of floating point zeros"
      ]
    },
    {
      "cell_type": "code",
      "metadata": {
        "id": "VQ8fHLVARz52",
        "colab_type": "code",
        "outputId": "9be79fd5-9c8e-4103-cf0b-0f4b55c83ebf",
        "colab": {
          "base_uri": "https://localhost:8080/",
          "height": 34
        }
      },
      "source": [
        "np.zeros(5)"
      ],
      "execution_count": 0,
      "outputs": [
        {
          "output_type": "execute_result",
          "data": {
            "text/plain": [
              "array([0., 0., 0., 0., 0.])"
            ]
          },
          "metadata": {
            "tags": []
          },
          "execution_count": 16
        }
      ]
    },
    {
      "cell_type": "markdown",
      "metadata": {
        "id": "9X6Ow1mJSuBy",
        "colab_type": "text"
      },
      "source": [
        "Create a 2x3 matrix of floating point zeros"
      ]
    },
    {
      "cell_type": "code",
      "metadata": {
        "id": "rkjS9gVPSYHJ",
        "colab_type": "code",
        "outputId": "3dd182ef-7058-43a1-d62f-d22c77087020",
        "colab": {
          "base_uri": "https://localhost:8080/",
          "height": 51
        }
      },
      "source": [
        "np.zeros((2, 3))"
      ],
      "execution_count": 0,
      "outputs": [
        {
          "output_type": "execute_result",
          "data": {
            "text/plain": [
              "array([[0., 0., 0.],\n",
              "       [0., 0., 0.]])"
            ]
          },
          "metadata": {
            "tags": []
          },
          "execution_count": 17
        }
      ]
    },
    {
      "cell_type": "markdown",
      "metadata": {
        "id": "eIH9Gu-OSx4-",
        "colab_type": "text"
      },
      "source": [
        "Create a 4x5 matrix of integer zeros"
      ]
    },
    {
      "cell_type": "code",
      "metadata": {
        "id": "aMszLz5pSbFb",
        "colab_type": "code",
        "outputId": "cda740b4-f202-45c2-e160-c7e6121a2a3e",
        "colab": {
          "base_uri": "https://localhost:8080/",
          "height": 85
        }
      },
      "source": [
        "np.zeros((4, 5), int)"
      ],
      "execution_count": 0,
      "outputs": [
        {
          "output_type": "execute_result",
          "data": {
            "text/plain": [
              "array([[0, 0, 0, 0, 0],\n",
              "       [0, 0, 0, 0, 0],\n",
              "       [0, 0, 0, 0, 0],\n",
              "       [0, 0, 0, 0, 0]])"
            ]
          },
          "metadata": {
            "tags": []
          },
          "execution_count": 18
        }
      ]
    },
    {
      "cell_type": "code",
      "metadata": {
        "id": "i4jBzcoESk_x",
        "colab_type": "code",
        "colab": {}
      },
      "source": [
        ""
      ],
      "execution_count": 0,
      "outputs": []
    },
    {
      "cell_type": "markdown",
      "metadata": {
        "colab_type": "text",
        "id": "33lsx84sTMH1"
      },
      "source": [
        "## np.ones"
      ]
    },
    {
      "cell_type": "markdown",
      "metadata": {
        "colab_type": "text",
        "id": "OP13Z4KTTMH3"
      },
      "source": [
        "Create a five element array of floating point ones"
      ]
    },
    {
      "cell_type": "code",
      "metadata": {
        "colab_type": "code",
        "outputId": "5434a6ba-d873-4ba2-fffc-5806a822aed9",
        "id": "4izlTOQ1TMIG",
        "colab": {
          "base_uri": "https://localhost:8080/",
          "height": 34
        }
      },
      "source": [
        "np.ones(5)"
      ],
      "execution_count": 0,
      "outputs": [
        {
          "output_type": "execute_result",
          "data": {
            "text/plain": [
              "array([1., 1., 1., 1., 1.])"
            ]
          },
          "metadata": {
            "tags": []
          },
          "execution_count": 19
        }
      ]
    },
    {
      "cell_type": "markdown",
      "metadata": {
        "colab_type": "text",
        "id": "_VU5IKtKTMIM"
      },
      "source": [
        "Create a 2x3 matrix of floating point ones"
      ]
    },
    {
      "cell_type": "code",
      "metadata": {
        "colab_type": "code",
        "outputId": "ecec73a4-33ad-4846-da42-a871ef7d501a",
        "id": "kBvyp0sITMIN",
        "colab": {
          "base_uri": "https://localhost:8080/",
          "height": 51
        }
      },
      "source": [
        "np.ones((2, 3))"
      ],
      "execution_count": 0,
      "outputs": [
        {
          "output_type": "execute_result",
          "data": {
            "text/plain": [
              "array([[1., 1., 1.],\n",
              "       [1., 1., 1.]])"
            ]
          },
          "metadata": {
            "tags": []
          },
          "execution_count": 20
        }
      ]
    },
    {
      "cell_type": "markdown",
      "metadata": {
        "colab_type": "text",
        "id": "a2SysmNVTMIP"
      },
      "source": [
        "Create a 4x5 matrix of integer ones"
      ]
    },
    {
      "cell_type": "code",
      "metadata": {
        "colab_type": "code",
        "outputId": "25b1dfdd-e3da-4456-eb6c-941d93382f22",
        "id": "6uqeEMBoTMIQ",
        "colab": {
          "base_uri": "https://localhost:8080/",
          "height": 85
        }
      },
      "source": [
        "np.ones((4, 5), int)"
      ],
      "execution_count": 0,
      "outputs": [
        {
          "output_type": "execute_result",
          "data": {
            "text/plain": [
              "array([[1, 1, 1, 1, 1],\n",
              "       [1, 1, 1, 1, 1],\n",
              "       [1, 1, 1, 1, 1],\n",
              "       [1, 1, 1, 1, 1]])"
            ]
          },
          "metadata": {
            "tags": []
          },
          "execution_count": 21
        }
      ]
    },
    {
      "cell_type": "code",
      "metadata": {
        "id": "3EWkP6pdN_j9",
        "colab_type": "code",
        "colab": {}
      },
      "source": [
        "import numpy as np"
      ],
      "execution_count": 0,
      "outputs": []
    },
    {
      "cell_type": "markdown",
      "metadata": {
        "id": "JjwD8n4nV9jU",
        "colab_type": "text"
      },
      "source": [
        "## np.linspace (linear spaced)"
      ]
    },
    {
      "cell_type": "markdown",
      "metadata": {
        "id": "zhs2DZFpWPAi",
        "colab_type": "text"
      },
      "source": [
        "This one is neat.  It will create a NumPy array that starts with the first parameter, ends with the second, and containst a total number of evenly spaced elements as indicated by the third parameter"
      ]
    },
    {
      "cell_type": "markdown",
      "metadata": {
        "id": "WkjwzTetWfpM",
        "colab_type": "text"
      },
      "source": [
        "Create an array of 3 (third parameter) evenly spaced elements starting at 0 (first parameter), and ending with 10 (second parameter)"
      ]
    },
    {
      "cell_type": "code",
      "metadata": {
        "id": "x51smfUaV_0-",
        "colab_type": "code",
        "outputId": "a0c75f98-f68d-4123-aae8-a83d993c820f",
        "colab": {
          "base_uri": "https://localhost:8080/",
          "height": 34
        }
      },
      "source": [
        "np.linspace(0, 10, 3)"
      ],
      "execution_count": 0,
      "outputs": [
        {
          "output_type": "execute_result",
          "data": {
            "text/plain": [
              "array([ 0.,  5., 10.])"
            ]
          },
          "metadata": {
            "tags": []
          },
          "execution_count": 23
        }
      ]
    },
    {
      "cell_type": "markdown",
      "metadata": {
        "id": "XD_th9qJWrEL",
        "colab_type": "text"
      },
      "source": [
        "Create an array of 20 (third parameter) evenly spaced elements starting with 0 (first parameter) and ending with 4 (second parameter)"
      ]
    },
    {
      "cell_type": "code",
      "metadata": {
        "id": "aPyffsIjWCjA",
        "colab_type": "code",
        "outputId": "2a1bcc9a-1e78-43ee-a907-f77c90712b01",
        "colab": {
          "base_uri": "https://localhost:8080/",
          "height": 85
        }
      },
      "source": [
        "np.linspace(0, 5, 20)"
      ],
      "execution_count": 0,
      "outputs": [
        {
          "output_type": "execute_result",
          "data": {
            "text/plain": [
              "array([0.        , 0.26315789, 0.52631579, 0.78947368, 1.05263158,\n",
              "       1.31578947, 1.57894737, 1.84210526, 2.10526316, 2.36842105,\n",
              "       2.63157895, 2.89473684, 3.15789474, 3.42105263, 3.68421053,\n",
              "       3.94736842, 4.21052632, 4.47368421, 4.73684211, 5.        ])"
            ]
          },
          "metadata": {
            "tags": []
          },
          "execution_count": 24
        }
      ]
    },
    {
      "cell_type": "markdown",
      "metadata": {
        "id": "6ZDvUHcrXBwH",
        "colab_type": "text"
      },
      "source": [
        "## np.eye (identity matrix)"
      ]
    },
    {
      "cell_type": "markdown",
      "metadata": {
        "id": "n2ZBXrmuXJ8G",
        "colab_type": "text"
      },
      "source": [
        "Creates an identity matrix.  This matrix is square n x n matrix where n matches the parameter passed in.  Since it is an identity matrix, all elements will be zero, except for the diagonal."
      ]
    },
    {
      "cell_type": "markdown",
      "metadata": {
        "id": "1_0h0S8nXgUg",
        "colab_type": "text"
      },
      "source": [
        "In this example we will create a 5 x 5 (parameter) identity matrix"
      ]
    },
    {
      "cell_type": "code",
      "metadata": {
        "id": "7emfzlwkWLRz",
        "colab_type": "code",
        "outputId": "7cbf7a0d-0316-4c39-9d7e-4ddcb81c8f26",
        "colab": {
          "base_uri": "https://localhost:8080/",
          "height": 102
        }
      },
      "source": [
        "np.eye(5)"
      ],
      "execution_count": 0,
      "outputs": [
        {
          "output_type": "execute_result",
          "data": {
            "text/plain": [
              "array([[1., 0., 0., 0., 0.],\n",
              "       [0., 1., 0., 0., 0.],\n",
              "       [0., 0., 1., 0., 0.],\n",
              "       [0., 0., 0., 1., 0.],\n",
              "       [0., 0., 0., 0., 1.]])"
            ]
          },
          "metadata": {
            "tags": []
          },
          "execution_count": 25
        }
      ]
    },
    {
      "cell_type": "markdown",
      "metadata": {
        "id": "5iBPvaLwXym6",
        "colab_type": "text"
      },
      "source": [
        "# Exercise 3: Generating Random NumPy Arrays"
      ]
    },
    {
      "cell_type": "markdown",
      "metadata": {
        "id": "6bsxrCNqYQg0",
        "colab_type": "text"
      },
      "source": [
        "## np.random.rand (random numbers with a uniform distribution)"
      ]
    },
    {
      "cell_type": "markdown",
      "metadata": {
        "id": "k58cHFqFYlVr",
        "colab_type": "text"
      },
      "source": [
        "Generate 3 random numbers between [0, 1) using a uniform distribution"
      ]
    },
    {
      "cell_type": "code",
      "metadata": {
        "id": "OWVpnBSbX3H5",
        "colab_type": "code",
        "outputId": "5a04625a-3b79-49aa-d224-1a949f22d6e9",
        "colab": {
          "base_uri": "https://localhost:8080/",
          "height": 34
        }
      },
      "source": [
        "np.random.rand(3)"
      ],
      "execution_count": 0,
      "outputs": [
        {
          "output_type": "execute_result",
          "data": {
            "text/plain": [
              "array([0.75729869, 0.22318319, 0.51847582])"
            ]
          },
          "metadata": {
            "tags": []
          },
          "execution_count": 26
        }
      ]
    },
    {
      "cell_type": "markdown",
      "metadata": {
        "id": "dprG_IcsZdjO",
        "colab_type": "text"
      },
      "source": [
        "Generate a 2 x 3 matrix of random numbers between [0, 1) using a uniform distribution"
      ]
    },
    {
      "cell_type": "code",
      "metadata": {
        "id": "SRgAC1BcYYUn",
        "colab_type": "code",
        "outputId": "7e6e2e64-a748-4fac-c1ff-77f620acf531",
        "colab": {
          "base_uri": "https://localhost:8080/",
          "height": 51
        }
      },
      "source": [
        "np.random.rand(2, 3)"
      ],
      "execution_count": 0,
      "outputs": [
        {
          "output_type": "execute_result",
          "data": {
            "text/plain": [
              "array([[0.65514582, 0.53250874, 0.40376752],\n",
              "       [0.06317705, 0.0619053 , 0.84177003]])"
            ]
          },
          "metadata": {
            "tags": []
          },
          "execution_count": 27
        }
      ]
    },
    {
      "cell_type": "markdown",
      "metadata": {
        "id": "SI7p06AcZ73C",
        "colab_type": "text"
      },
      "source": [
        "## np.random.randn (random numbers with normal distribution"
      ]
    },
    {
      "cell_type": "markdown",
      "metadata": {
        "id": "4RaokuY8aN70",
        "colab_type": "text"
      },
      "source": [
        "Generates 3 random numbers between (-1, 1) using a guassian distribution about a mean of zero, with a variance of 1"
      ]
    },
    {
      "cell_type": "code",
      "metadata": {
        "id": "MqsfKSqdZUR-",
        "colab_type": "code",
        "outputId": "7c1adad5-3838-4261-fd25-d795a7b3a938",
        "colab": {
          "base_uri": "https://localhost:8080/",
          "height": 34
        }
      },
      "source": [
        "np.random.randn(3)"
      ],
      "execution_count": 0,
      "outputs": [
        {
          "output_type": "execute_result",
          "data": {
            "text/plain": [
              "array([-0.77168272, -0.65444917, -1.4197402 ])"
            ]
          },
          "metadata": {
            "tags": []
          },
          "execution_count": 28
        }
      ]
    },
    {
      "cell_type": "markdown",
      "metadata": {
        "id": "ebWGCzZeadOp",
        "colab_type": "text"
      },
      "source": [
        "Generates a 2 x 3 matrix of random numbers between (-1, 1) using a guassian distribution about a mean of zero with a variance of 1"
      ]
    },
    {
      "cell_type": "code",
      "metadata": {
        "id": "mHm2Lx2_aEaT",
        "colab_type": "code",
        "outputId": "da7d5114-50c3-4b49-fccc-fc37cd30d1b3",
        "colab": {
          "base_uri": "https://localhost:8080/",
          "height": 51
        }
      },
      "source": [
        "np.random.randn(2,3)"
      ],
      "execution_count": 0,
      "outputs": [
        {
          "output_type": "execute_result",
          "data": {
            "text/plain": [
              "array([[-0.29733327, -1.27991299,  1.0483892 ],\n",
              "       [ 1.99655717, -0.12234764,  0.0118505 ]])"
            ]
          },
          "metadata": {
            "tags": []
          },
          "execution_count": 29
        }
      ]
    },
    {
      "cell_type": "markdown",
      "metadata": {
        "id": "R3izKD4Sa3g8",
        "colab_type": "text"
      },
      "source": [
        "## np.random.randint (random integer)"
      ]
    },
    {
      "cell_type": "markdown",
      "metadata": {
        "id": "_LmR0Xz-bCx-",
        "colab_type": "text"
      },
      "source": [
        "Generates a random integer between [1, 100)"
      ]
    },
    {
      "cell_type": "code",
      "metadata": {
        "id": "meDWG3bNabo7",
        "colab_type": "code",
        "outputId": "3890d121-b98c-44bc-f3d8-2069c0c80537",
        "colab": {
          "base_uri": "https://localhost:8080/",
          "height": 34
        }
      },
      "source": [
        "np.random.randint(1, 100)"
      ],
      "execution_count": 0,
      "outputs": [
        {
          "output_type": "execute_result",
          "data": {
            "text/plain": [
              "9"
            ]
          },
          "metadata": {
            "tags": []
          },
          "execution_count": 30
        }
      ]
    },
    {
      "cell_type": "markdown",
      "metadata": {
        "id": "Y6xVI138bISZ",
        "colab_type": "text"
      },
      "source": [
        "Generates 5 random integers between [1, 100)"
      ]
    },
    {
      "cell_type": "code",
      "metadata": {
        "id": "_Gzjw8a7a9Yg",
        "colab_type": "code",
        "outputId": "cbe15a71-f128-4256-a7d5-6c5f358c5c8f",
        "colab": {
          "base_uri": "https://localhost:8080/",
          "height": 34
        }
      },
      "source": [
        "np.random.randint(1, 100, 5)"
      ],
      "execution_count": 0,
      "outputs": [
        {
          "output_type": "execute_result",
          "data": {
            "text/plain": [
              "array([91, 22, 98, 88, 67])"
            ]
          },
          "metadata": {
            "tags": []
          },
          "execution_count": 31
        }
      ]
    },
    {
      "cell_type": "markdown",
      "metadata": {
        "id": "ILjDHwX9bOyP",
        "colab_type": "text"
      },
      "source": [
        "Generates a 2 x 3 matrix of random integers between [1, 100)"
      ]
    },
    {
      "cell_type": "code",
      "metadata": {
        "id": "4AQizFfOa_Yn",
        "colab_type": "code",
        "outputId": "994051b2-5024-44bb-9fe5-0bc99d3abb4f",
        "colab": {
          "base_uri": "https://localhost:8080/",
          "height": 51
        }
      },
      "source": [
        "np.random.randint(1, 100, (2, 3))"
      ],
      "execution_count": 0,
      "outputs": [
        {
          "output_type": "execute_result",
          "data": {
            "text/plain": [
              "array([[70,  1, 64],\n",
              "       [93, 77, 52]])"
            ]
          },
          "metadata": {
            "tags": []
          },
          "execution_count": 32
        }
      ]
    },
    {
      "cell_type": "markdown",
      "metadata": {
        "id": "IAJ_fXvobkzx",
        "colab_type": "text"
      },
      "source": [
        "## np.random.seed"
      ]
    },
    {
      "cell_type": "markdown",
      "metadata": {
        "id": "Ux9GirEkboXi",
        "colab_type": "text"
      },
      "source": [
        "This will seed the random number generator.  If a known value is passed in, then the random number generator will always generate the same random numbers."
      ]
    },
    {
      "cell_type": "markdown",
      "metadata": {
        "id": "qtwznW7Ob5Kp",
        "colab_type": "text"
      },
      "source": [
        "In this example, anybody else that passes a 42 into the seed function will generate these same 4 random numbers."
      ]
    },
    {
      "cell_type": "code",
      "metadata": {
        "id": "O_Z-1UPUbBfY",
        "colab_type": "code",
        "colab": {}
      },
      "source": [
        "np.random.seed(42)"
      ],
      "execution_count": 0,
      "outputs": []
    },
    {
      "cell_type": "code",
      "metadata": {
        "id": "zsRRc4s1bzWg",
        "colab_type": "code",
        "outputId": "fecc08f4-9eee-4a38-e43f-10f66197267e",
        "colab": {
          "base_uri": "https://localhost:8080/",
          "height": 34
        }
      },
      "source": [
        "np.random.rand(4)"
      ],
      "execution_count": 0,
      "outputs": [
        {
          "output_type": "execute_result",
          "data": {
            "text/plain": [
              "array([0.37454012, 0.95071431, 0.73199394, 0.59865848])"
            ]
          },
          "metadata": {
            "tags": []
          },
          "execution_count": 34
        }
      ]
    },
    {
      "cell_type": "markdown",
      "metadata": {
        "id": "v_oEv2vccsrv",
        "colab_type": "text"
      },
      "source": [
        "# Exercise 4: Reshaping NumPy Arrays"
      ]
    },
    {
      "cell_type": "markdown",
      "metadata": {
        "id": "WuZHXKdIdBDH",
        "colab_type": "text"
      },
      "source": [
        "Create a 25 element 1d array of integers starting with 0 and ending with 24 (n -1)"
      ]
    },
    {
      "cell_type": "code",
      "metadata": {
        "id": "ifJmOx4hb0nB",
        "colab_type": "code",
        "colab": {}
      },
      "source": [
        "arr = np.arange(25)"
      ],
      "execution_count": 0,
      "outputs": []
    },
    {
      "cell_type": "markdown",
      "metadata": {
        "id": "lyLQ1OHodO-W",
        "colab_type": "text"
      },
      "source": [
        "Get the shape (currently a 25 element 1d array)"
      ]
    },
    {
      "cell_type": "code",
      "metadata": {
        "id": "KEEE-F4xc1F3",
        "colab_type": "code",
        "outputId": "4e3c31d7-8408-4059-de6c-d96000ebc860",
        "colab": {
          "base_uri": "https://localhost:8080/",
          "height": 34
        }
      },
      "source": [
        "arr.shape"
      ],
      "execution_count": 0,
      "outputs": [
        {
          "output_type": "execute_result",
          "data": {
            "text/plain": [
              "(25,)"
            ]
          },
          "metadata": {
            "tags": []
          },
          "execution_count": 36
        }
      ]
    },
    {
      "cell_type": "markdown",
      "metadata": {
        "id": "DrykQRqZdUsD",
        "colab_type": "text"
      },
      "source": [
        "Create a new array using the same data that is a 5 x 5"
      ]
    },
    {
      "cell_type": "code",
      "metadata": {
        "id": "v5iPZARAc2WT",
        "colab_type": "code",
        "outputId": "7c61de84-4ef0-4971-902d-d37885dc0522",
        "colab": {
          "base_uri": "https://localhost:8080/",
          "height": 102
        }
      },
      "source": [
        "arr.reshape(5, 5)"
      ],
      "execution_count": 0,
      "outputs": [
        {
          "output_type": "execute_result",
          "data": {
            "text/plain": [
              "array([[ 0,  1,  2,  3,  4],\n",
              "       [ 5,  6,  7,  8,  9],\n",
              "       [10, 11, 12, 13, 14],\n",
              "       [15, 16, 17, 18, 19],\n",
              "       [20, 21, 22, 23, 24]])"
            ]
          },
          "metadata": {
            "tags": []
          },
          "execution_count": 37
        }
      ]
    },
    {
      "cell_type": "markdown",
      "metadata": {
        "id": "ey2CuKCMdpoq",
        "colab_type": "text"
      },
      "source": [
        "Here we will get an error because a 3 x 6 array must contain 18 elements, but our source array contains 25.  So when using reshape the product of the parameters must equal the size of the array."
      ]
    },
    {
      "cell_type": "code",
      "metadata": {
        "id": "4Xz9SJ1rc6sU",
        "colab_type": "code",
        "outputId": "e2e438a8-8a56-4a3b-90e5-261cd9ea8325",
        "colab": {
          "base_uri": "https://localhost:8080/",
          "height": 163
        }
      },
      "source": [
        "arr.reshape(3, 6)"
      ],
      "execution_count": 0,
      "outputs": [
        {
          "output_type": "error",
          "ename": "ValueError",
          "evalue": "ignored",
          "traceback": [
            "\u001b[0;31m---------------------------------------------------------------------------\u001b[0m",
            "\u001b[0;31mValueError\u001b[0m                                Traceback (most recent call last)",
            "\u001b[0;32m<ipython-input-39-5118f23fac40>\u001b[0m in \u001b[0;36m<module>\u001b[0;34m()\u001b[0m\n\u001b[0;32m----> 1\u001b[0;31m \u001b[0marr\u001b[0m\u001b[0;34m.\u001b[0m\u001b[0mreshape\u001b[0m\u001b[0;34m(\u001b[0m\u001b[0;36m3\u001b[0m\u001b[0;34m,\u001b[0m \u001b[0;36m6\u001b[0m\u001b[0;34m)\u001b[0m\u001b[0;34m\u001b[0m\u001b[0;34m\u001b[0m\u001b[0m\n\u001b[0m",
            "\u001b[0;31mValueError\u001b[0m: cannot reshape array of size 25 into shape (3,6)"
          ]
        }
      ]
    },
    {
      "cell_type": "markdown",
      "metadata": {
        "id": "fNeo8OFqeEhH",
        "colab_type": "text"
      },
      "source": [
        "# Exercise 5: Array Info"
      ]
    },
    {
      "cell_type": "markdown",
      "metadata": {
        "id": "ip-7vJK8egZs",
        "colab_type": "text"
      },
      "source": [
        "Create an array of 10 random numbers between [1, 50)"
      ]
    },
    {
      "cell_type": "code",
      "metadata": {
        "id": "7Aeh38LydogU",
        "colab_type": "code",
        "colab": {}
      },
      "source": [
        "randomArray = np.random.randint(1, 50, 10)"
      ],
      "execution_count": 0,
      "outputs": []
    },
    {
      "cell_type": "code",
      "metadata": {
        "id": "IKbsetq5eVwD",
        "colab_type": "code",
        "outputId": "26fc9df5-ba93-4641-f2cd-a821aa5561b3",
        "colab": {
          "base_uri": "https://localhost:8080/",
          "height": 34
        }
      },
      "source": [
        "randomArray"
      ],
      "execution_count": 0,
      "outputs": [
        {
          "output_type": "execute_result",
          "data": {
            "text/plain": [
              "array([39, 19, 23, 11, 11, 24, 36, 40, 24,  3])"
            ]
          },
          "metadata": {
            "tags": []
          },
          "execution_count": 41
        }
      ]
    },
    {
      "cell_type": "markdown",
      "metadata": {
        "id": "Zcj4TyWzelO8",
        "colab_type": "text"
      },
      "source": [
        "Returns the max value from the array"
      ]
    },
    {
      "cell_type": "code",
      "metadata": {
        "id": "0wTWa6_aeW0c",
        "colab_type": "code",
        "outputId": "117be8d5-bf44-4f63-a7ec-a7914f72b20b",
        "colab": {
          "base_uri": "https://localhost:8080/",
          "height": 34
        }
      },
      "source": [
        "randomArray.max()"
      ],
      "execution_count": 0,
      "outputs": [
        {
          "output_type": "execute_result",
          "data": {
            "text/plain": [
              "40"
            ]
          },
          "metadata": {
            "tags": []
          },
          "execution_count": 42
        }
      ]
    },
    {
      "cell_type": "markdown",
      "metadata": {
        "id": "F7KZRyuxeome",
        "colab_type": "text"
      },
      "source": [
        "Returns the index of hte max value from the array"
      ]
    },
    {
      "cell_type": "code",
      "metadata": {
        "id": "52-Xl-jmeY8u",
        "colab_type": "code",
        "outputId": "5a5aa9cd-17de-4526-b641-75fb0c0d23e0",
        "colab": {
          "base_uri": "https://localhost:8080/",
          "height": 34
        }
      },
      "source": [
        "randomArray.argmax()"
      ],
      "execution_count": 0,
      "outputs": [
        {
          "output_type": "execute_result",
          "data": {
            "text/plain": [
              "7"
            ]
          },
          "metadata": {
            "tags": []
          },
          "execution_count": 43
        }
      ]
    },
    {
      "cell_type": "markdown",
      "metadata": {
        "id": "czzkGu_0esCI",
        "colab_type": "text"
      },
      "source": [
        "Returns the min value from the array"
      ]
    },
    {
      "cell_type": "code",
      "metadata": {
        "id": "U-d2DO9JearQ",
        "colab_type": "code",
        "outputId": "b893e054-6fcb-4481-af38-3d42cdf51a41",
        "colab": {
          "base_uri": "https://localhost:8080/",
          "height": 34
        }
      },
      "source": [
        "randomArray.min()"
      ],
      "execution_count": 0,
      "outputs": [
        {
          "output_type": "execute_result",
          "data": {
            "text/plain": [
              "3"
            ]
          },
          "metadata": {
            "tags": []
          },
          "execution_count": 44
        }
      ]
    },
    {
      "cell_type": "markdown",
      "metadata": {
        "id": "PKkL8AEseu18",
        "colab_type": "text"
      },
      "source": [
        "Returns the index of the min value from the array"
      ]
    },
    {
      "cell_type": "code",
      "metadata": {
        "id": "vov8tsw6ebvR",
        "colab_type": "code",
        "outputId": "2dc706ec-e318-4ca3-8f24-e7f57632cd3f",
        "colab": {
          "base_uri": "https://localhost:8080/",
          "height": 34
        }
      },
      "source": [
        "randomArray.argmin()"
      ],
      "execution_count": 0,
      "outputs": [
        {
          "output_type": "execute_result",
          "data": {
            "text/plain": [
              "9"
            ]
          },
          "metadata": {
            "tags": []
          },
          "execution_count": 45
        }
      ]
    },
    {
      "cell_type": "markdown",
      "metadata": {
        "id": "r2sXKO13e8it",
        "colab_type": "text"
      },
      "source": [
        "Get the datatype of the array elements"
      ]
    },
    {
      "cell_type": "code",
      "metadata": {
        "id": "05H9AQPAeeX6",
        "colab_type": "code",
        "outputId": "74525962-75cf-4cf3-8328-ac1e9d0c5c9d",
        "colab": {
          "base_uri": "https://localhost:8080/",
          "height": 34
        }
      },
      "source": [
        "randomArray.dtype"
      ],
      "execution_count": 0,
      "outputs": [
        {
          "output_type": "execute_result",
          "data": {
            "text/plain": [
              "dtype('int64')"
            ]
          },
          "metadata": {
            "tags": []
          },
          "execution_count": 46
        }
      ]
    },
    {
      "cell_type": "code",
      "metadata": {
        "id": "CyTClWt1e63F",
        "colab_type": "code",
        "colab": {}
      },
      "source": [
        ""
      ],
      "execution_count": 0,
      "outputs": []
    }
  ]
}