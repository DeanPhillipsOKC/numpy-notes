{
  "nbformat": 4,
  "nbformat_minor": 0,
  "metadata": {
    "colab": {
      "name": "NumPy Index Selection.ipynb",
      "provenance": [],
      "include_colab_link": true
    },
    "kernelspec": {
      "name": "python3",
      "display_name": "Python 3"
    }
  },
  "cells": [
    {
      "cell_type": "markdown",
      "metadata": {
        "id": "view-in-github",
        "colab_type": "text"
      },
      "source": [
        "<a href=\"https://colab.research.google.com/github/DeanPhillipsOKC/numpy-notes/blob/master/NumPy_Index_Selection.ipynb\" target=\"_parent\"><img src=\"https://colab.research.google.com/assets/colab-badge.svg\" alt=\"Open In Colab\"/></a>"
      ]
    },
    {
      "cell_type": "markdown",
      "metadata": {
        "id": "Kgn1Qak5ritH",
        "colab_type": "text"
      },
      "source": [
        "# NumPy Index Selection"
      ]
    },
    {
      "cell_type": "code",
      "metadata": {
        "id": "6-STOQtoqBPt",
        "colab_type": "code",
        "colab": {}
      },
      "source": [
        "import numpy as np"
      ],
      "execution_count": 0,
      "outputs": []
    },
    {
      "cell_type": "markdown",
      "metadata": {
        "id": "3X48J8uYsRVZ",
        "colab_type": "text"
      },
      "source": [
        "Create a 10 element array from 0 to 10"
      ]
    },
    {
      "cell_type": "code",
      "metadata": {
        "id": "AccapD2Qr6vA",
        "colab_type": "code",
        "colab": {}
      },
      "source": [
        "arr = np.arange(0, 11)"
      ],
      "execution_count": 0,
      "outputs": []
    },
    {
      "cell_type": "code",
      "metadata": {
        "id": "RgDS5bwrr9_Y",
        "colab_type": "code",
        "outputId": "00e05fa4-f4f2-40e2-dd51-babcb1e90dbb",
        "colab": {
          "base_uri": "https://localhost:8080/",
          "height": 35
        }
      },
      "source": [
        "arr"
      ],
      "execution_count": 0,
      "outputs": [
        {
          "output_type": "execute_result",
          "data": {
            "text/plain": [
              "array([ 0,  1,  2,  3,  4,  5,  6,  7,  8,  9, 10])"
            ]
          },
          "metadata": {
            "tags": []
          },
          "execution_count": 4
        }
      ]
    },
    {
      "cell_type": "markdown",
      "metadata": {
        "id": "_bv1AHigsZQT",
        "colab_type": "text"
      },
      "source": [
        "Display the 3rd element of the array"
      ]
    },
    {
      "cell_type": "code",
      "metadata": {
        "id": "RJLC0X0ur_4-",
        "colab_type": "code",
        "outputId": "6ea6593a-1027-4991-843e-774fa6015ccd",
        "colab": {
          "base_uri": "https://localhost:8080/",
          "height": 35
        }
      },
      "source": [
        "arr[2]"
      ],
      "execution_count": 0,
      "outputs": [
        {
          "output_type": "execute_result",
          "data": {
            "text/plain": [
              "2"
            ]
          },
          "metadata": {
            "tags": []
          },
          "execution_count": 5
        }
      ]
    },
    {
      "cell_type": "markdown",
      "metadata": {
        "id": "A5rPs1Jdsfz4",
        "colab_type": "text"
      },
      "source": [
        "Display the third element of the array, up to, but not including the 7th element"
      ]
    },
    {
      "cell_type": "code",
      "metadata": {
        "id": "_hYOFLdqsHdu",
        "colab_type": "code",
        "outputId": "048aa601-b797-4405-c00f-29511ac6aa31",
        "colab": {
          "base_uri": "https://localhost:8080/",
          "height": 35
        }
      },
      "source": [
        "arr[3:7]"
      ],
      "execution_count": 0,
      "outputs": [
        {
          "output_type": "execute_result",
          "data": {
            "text/plain": [
              "array([3, 4, 5, 6])"
            ]
          },
          "metadata": {
            "tags": []
          },
          "execution_count": 7
        }
      ]
    },
    {
      "cell_type": "markdown",
      "metadata": {
        "id": "tWcjWNZRsyIX",
        "colab_type": "text"
      },
      "source": [
        "Both of these statements show elements 0, up to, but not including 5.  We can leave the 0 out, if we want to start at the beginning"
      ]
    },
    {
      "cell_type": "code",
      "metadata": {
        "id": "iWiSHgjdsKOX",
        "colab_type": "code",
        "outputId": "a81bab79-a6cc-4e3f-e951-6cdfe9da0fb0",
        "colab": {
          "base_uri": "https://localhost:8080/",
          "height": 35
        }
      },
      "source": [
        "arr[0:5]"
      ],
      "execution_count": 0,
      "outputs": [
        {
          "output_type": "execute_result",
          "data": {
            "text/plain": [
              "array([0, 1, 2, 3, 4])"
            ]
          },
          "metadata": {
            "tags": []
          },
          "execution_count": 8
        }
      ]
    },
    {
      "cell_type": "code",
      "metadata": {
        "id": "hWjqPE_Ysvq_",
        "colab_type": "code",
        "outputId": "eeb792df-b2b7-499e-ea74-64cfa802f0c7",
        "colab": {
          "base_uri": "https://localhost:8080/",
          "height": 35
        }
      },
      "source": [
        "arr[:5]"
      ],
      "execution_count": 0,
      "outputs": [
        {
          "output_type": "execute_result",
          "data": {
            "text/plain": [
              "array([0, 1, 2, 3, 4])"
            ]
          },
          "metadata": {
            "tags": []
          },
          "execution_count": 9
        }
      ]
    },
    {
      "cell_type": "markdown",
      "metadata": {
        "id": "B7tVyUpJtGHX",
        "colab_type": "text"
      },
      "source": [
        "Similar to above.  If we want our index range to go to the end, we can just leave off the end value"
      ]
    },
    {
      "cell_type": "code",
      "metadata": {
        "id": "I3M7_V_usxC4",
        "colab_type": "code",
        "outputId": "b137840a-f9ff-41f3-c380-338c476d46e5",
        "colab": {
          "base_uri": "https://localhost:8080/",
          "height": 35
        }
      },
      "source": [
        "arr[5:11]"
      ],
      "execution_count": 0,
      "outputs": [
        {
          "output_type": "execute_result",
          "data": {
            "text/plain": [
              "array([ 5,  6,  7,  8,  9, 10])"
            ]
          },
          "metadata": {
            "tags": []
          },
          "execution_count": 10
        }
      ]
    },
    {
      "cell_type": "code",
      "metadata": {
        "id": "FXowqa6OtDUY",
        "colab_type": "code",
        "outputId": "08127898-39f2-4a03-dff5-a11beebf21f4",
        "colab": {
          "base_uri": "https://localhost:8080/",
          "height": 35
        }
      },
      "source": [
        "arr[5:]"
      ],
      "execution_count": 0,
      "outputs": [
        {
          "output_type": "execute_result",
          "data": {
            "text/plain": [
              "array([ 5,  6,  7,  8,  9, 10])"
            ]
          },
          "metadata": {
            "tags": []
          },
          "execution_count": 11
        }
      ]
    },
    {
      "cell_type": "markdown",
      "metadata": {
        "id": "kU80ofk3tjDI",
        "colab_type": "text"
      },
      "source": [
        "## Broadcasting"
      ]
    },
    {
      "cell_type": "markdown",
      "metadata": {
        "id": "M7Dw98mntqyS",
        "colab_type": "text"
      },
      "source": [
        "One thing numpy arrays do that normal Python arrays do not, is the ability to use broadcasts to assign to multiple elements.  In this example we select elements 2 to 4, and set them all to 100."
      ]
    },
    {
      "cell_type": "code",
      "metadata": {
        "id": "bYwPtHcLtE9w",
        "colab_type": "code",
        "colab": {}
      },
      "source": [
        "arr[2:5] = 100"
      ],
      "execution_count": 0,
      "outputs": []
    },
    {
      "cell_type": "code",
      "metadata": {
        "id": "IS9sqjE8toyu",
        "colab_type": "code",
        "outputId": "7389ffae-efb1-4bee-e5d1-afacd8776013",
        "colab": {
          "base_uri": "https://localhost:8080/",
          "height": 35
        }
      },
      "source": [
        "arr"
      ],
      "execution_count": 0,
      "outputs": [
        {
          "output_type": "execute_result",
          "data": {
            "text/plain": [
              "array([  0,   1, 100, 100, 100,   5,   6,   7,   8,   9,  10])"
            ]
          },
          "metadata": {
            "tags": []
          },
          "execution_count": 13
        }
      ]
    },
    {
      "cell_type": "markdown",
      "metadata": {
        "id": "FI9MD0rtuuOc",
        "colab_type": "text"
      },
      "source": [
        "One thing that is important to know, is that when an array slice is taken, the new array is really just a pointer to a position in the original array.\n",
        "\n",
        "This is shown in this example by taking a slice of our array, using a broadcast to change all elements of the slice, and showing that the corresponding elements in the original array were updates as well"
      ]
    },
    {
      "cell_type": "markdown",
      "metadata": {
        "id": "yIDnodTMvA19",
        "colab_type": "text"
      },
      "source": [
        ""
      ]
    },
    {
      "cell_type": "code",
      "metadata": {
        "id": "Ou5Oq25OtpYv",
        "colab_type": "code",
        "colab": {}
      },
      "source": [
        "arr = np.arange(0, 11) # Reset the array"
      ],
      "execution_count": 0,
      "outputs": []
    },
    {
      "cell_type": "code",
      "metadata": {
        "id": "Lat9tzv9uAee",
        "colab_type": "code",
        "colab": {}
      },
      "source": [
        "slice_of_array = arr[0:6]"
      ],
      "execution_count": 0,
      "outputs": []
    },
    {
      "cell_type": "code",
      "metadata": {
        "id": "C5Zg-9tcumHH",
        "colab_type": "code",
        "colab": {}
      },
      "source": [
        "slice_of_array[:] = 100"
      ],
      "execution_count": 0,
      "outputs": []
    },
    {
      "cell_type": "code",
      "metadata": {
        "id": "53qibGuiup1g",
        "colab_type": "code",
        "outputId": "2c8d7306-6481-47fc-cd88-7eb3663ea63b",
        "colab": {
          "base_uri": "https://localhost:8080/",
          "height": 35
        }
      },
      "source": [
        "slice_of_array"
      ],
      "execution_count": 0,
      "outputs": [
        {
          "output_type": "execute_result",
          "data": {
            "text/plain": [
              "array([100, 100, 100, 100, 100, 100])"
            ]
          },
          "metadata": {
            "tags": []
          },
          "execution_count": 18
        }
      ]
    },
    {
      "cell_type": "code",
      "metadata": {
        "id": "5tihExtKuq_A",
        "colab_type": "code",
        "outputId": "306f6890-bd9e-461b-8856-b121445507e6",
        "colab": {
          "base_uri": "https://localhost:8080/",
          "height": 35
        }
      },
      "source": [
        "arr"
      ],
      "execution_count": 0,
      "outputs": [
        {
          "output_type": "execute_result",
          "data": {
            "text/plain": [
              "array([100, 100, 100, 100, 100, 100,   6,   7,   8,   9,  10])"
            ]
          },
          "metadata": {
            "tags": []
          },
          "execution_count": 19
        }
      ]
    },
    {
      "cell_type": "markdown",
      "metadata": {
        "id": "t56TOOTLv0Lr",
        "colab_type": "text"
      },
      "source": [
        "If having a pointer to the original array is not adequate, we can use the built in copy method on the source array to get a completely new copy that can be updated independently."
      ]
    },
    {
      "cell_type": "code",
      "metadata": {
        "id": "dsI1NxC2usI3",
        "colab_type": "code",
        "colab": {}
      },
      "source": [
        "arr = np.arange(0, 11) # Reset the array"
      ],
      "execution_count": 0,
      "outputs": []
    },
    {
      "cell_type": "code",
      "metadata": {
        "id": "19QjqDuivgTY",
        "colab_type": "code",
        "colab": {}
      },
      "source": [
        "copy_of_array = arr.copy()"
      ],
      "execution_count": 0,
      "outputs": []
    },
    {
      "cell_type": "code",
      "metadata": {
        "id": "NKbBZsXkvja3",
        "colab_type": "code",
        "colab": {}
      },
      "source": [
        "copy_of_array[:] = 100"
      ],
      "execution_count": 0,
      "outputs": []
    },
    {
      "cell_type": "code",
      "metadata": {
        "id": "bG1VAmxgvngQ",
        "colab_type": "code",
        "outputId": "d0539a07-8dc2-4f35-fa71-2cc58952d2a8",
        "colab": {
          "base_uri": "https://localhost:8080/",
          "height": 35
        }
      },
      "source": [
        "copy_of_array"
      ],
      "execution_count": 0,
      "outputs": [
        {
          "output_type": "execute_result",
          "data": {
            "text/plain": [
              "array([100, 100, 100, 100, 100, 100, 100, 100, 100, 100, 100])"
            ]
          },
          "metadata": {
            "tags": []
          },
          "execution_count": 24
        }
      ]
    },
    {
      "cell_type": "code",
      "metadata": {
        "id": "6yPwRY6KvocP",
        "colab_type": "code",
        "outputId": "33409035-0346-49e1-a894-72cdd99faa27",
        "colab": {
          "base_uri": "https://localhost:8080/",
          "height": 35
        }
      },
      "source": [
        "arr"
      ],
      "execution_count": 0,
      "outputs": [
        {
          "output_type": "execute_result",
          "data": {
            "text/plain": [
              "array([ 0,  1,  2,  3,  4,  5,  6,  7,  8,  9, 10])"
            ]
          },
          "metadata": {
            "tags": []
          },
          "execution_count": 25
        }
      ]
    },
    {
      "cell_type": "markdown",
      "metadata": {
        "id": "hC-1pESKw-rB",
        "colab_type": "text"
      },
      "source": [
        "## Indexing 2D Arrays"
      ]
    },
    {
      "cell_type": "code",
      "metadata": {
        "id": "SsB9Ab9Lvo1_",
        "colab_type": "code",
        "colab": {}
      },
      "source": [
        "arr = np.arange(5, 46, 5)"
      ],
      "execution_count": 0,
      "outputs": []
    },
    {
      "cell_type": "code",
      "metadata": {
        "id": "DHhTQnSFxMZN",
        "colab_type": "code",
        "colab": {}
      },
      "source": [
        "arr = arr.reshape(3, 3)"
      ],
      "execution_count": 0,
      "outputs": []
    },
    {
      "cell_type": "markdown",
      "metadata": {
        "id": "nV5N_L9_xb3k",
        "colab_type": "text"
      },
      "source": [
        "Select the second and third row"
      ]
    },
    {
      "cell_type": "code",
      "metadata": {
        "id": "nZ0FQwNdxOc4",
        "colab_type": "code",
        "outputId": "9250a0cf-f592-4e7d-9dfd-6af8dbfded80",
        "colab": {
          "base_uri": "https://localhost:8080/",
          "height": 52
        }
      },
      "source": [
        "arr[1:]"
      ],
      "execution_count": 0,
      "outputs": [
        {
          "output_type": "execute_result",
          "data": {
            "text/plain": [
              "array([[20, 25, 30],\n",
              "       [35, 40, 45]])"
            ]
          },
          "metadata": {
            "tags": []
          },
          "execution_count": 30
        }
      ]
    },
    {
      "cell_type": "markdown",
      "metadata": {
        "id": "SO_zv8QvxqES",
        "colab_type": "text"
      },
      "source": [
        "Select an individual element, the ugly way"
      ]
    },
    {
      "cell_type": "code",
      "metadata": {
        "id": "KI5q2DKjxVow",
        "colab_type": "code",
        "outputId": "8fc32687-e31e-407c-f290-042083d872d1",
        "colab": {
          "base_uri": "https://localhost:8080/",
          "height": 35
        }
      },
      "source": [
        "arr[1][0]"
      ],
      "execution_count": 0,
      "outputs": [
        {
          "output_type": "execute_result",
          "data": {
            "text/plain": [
              "20"
            ]
          },
          "metadata": {
            "tags": []
          },
          "execution_count": 31
        }
      ]
    },
    {
      "cell_type": "markdown",
      "metadata": {
        "id": "U64POTvmxvCM",
        "colab_type": "text"
      },
      "source": [
        "Select an individual element the more common way"
      ]
    },
    {
      "cell_type": "code",
      "metadata": {
        "id": "NJd2gfURxoSX",
        "colab_type": "code",
        "outputId": "38e54fc1-dc9c-48e9-be2f-3a3e70b72111",
        "colab": {
          "base_uri": "https://localhost:8080/",
          "height": 35
        }
      },
      "source": [
        "arr[1, 0]"
      ],
      "execution_count": 0,
      "outputs": [
        {
          "output_type": "execute_result",
          "data": {
            "text/plain": [
              "20"
            ]
          },
          "metadata": {
            "tags": []
          },
          "execution_count": 32
        }
      ]
    },
    {
      "cell_type": "markdown",
      "metadata": {
        "id": "1zFm3A3Hx6PG",
        "colab_type": "text"
      },
      "source": [
        "Select the first, and second row, and second, and third column"
      ]
    },
    {
      "cell_type": "code",
      "metadata": {
        "id": "8BbkwGa1xt0v",
        "colab_type": "code",
        "outputId": "7f11a66d-3ec7-401a-ee3c-2dd0e53e1f8e",
        "colab": {
          "base_uri": "https://localhost:8080/",
          "height": 52
        }
      },
      "source": [
        "arr[:2, 1:]"
      ],
      "execution_count": 0,
      "outputs": [
        {
          "output_type": "execute_result",
          "data": {
            "text/plain": [
              "array([[10, 15],\n",
              "       [25, 30]])"
            ]
          },
          "metadata": {
            "tags": []
          },
          "execution_count": 33
        }
      ]
    },
    {
      "cell_type": "markdown",
      "metadata": {
        "id": "2RA-zQsCyb6f",
        "colab_type": "text"
      },
      "source": [
        "## Conditional Selection"
      ]
    },
    {
      "cell_type": "markdown",
      "metadata": {
        "id": "jGEjviOkyyG4",
        "colab_type": "text"
      },
      "source": [
        "Create an array from 0 to 10"
      ]
    },
    {
      "cell_type": "code",
      "metadata": {
        "id": "tfvonP5Qx4lv",
        "colab_type": "code",
        "colab": {}
      },
      "source": [
        "arr = np.arange(0, 11)"
      ],
      "execution_count": 0,
      "outputs": []
    },
    {
      "cell_type": "markdown",
      "metadata": {
        "id": "W_nEBah7y2eV",
        "colab_type": "text"
      },
      "source": [
        "Create a new 10 element array of booleans.  The elements in the original that are not greater than 4 will be false.  The others will be true."
      ]
    },
    {
      "cell_type": "code",
      "metadata": {
        "id": "bP9wdXxKygow",
        "colab_type": "code",
        "colab": {}
      },
      "source": [
        "elements_gt_4 = arr > 4"
      ],
      "execution_count": 0,
      "outputs": []
    },
    {
      "cell_type": "code",
      "metadata": {
        "id": "oGoq-5-CynMf",
        "colab_type": "code",
        "outputId": "8c465c82-5601-47ab-d0d0-382f1d683675",
        "colab": {
          "base_uri": "https://localhost:8080/",
          "height": 52
        }
      },
      "source": [
        "elements_gt_4"
      ],
      "execution_count": 0,
      "outputs": [
        {
          "output_type": "execute_result",
          "data": {
            "text/plain": [
              "array([False, False, False, False, False,  True,  True,  True,  True,\n",
              "        True,  True])"
            ]
          },
          "metadata": {
            "tags": []
          },
          "execution_count": 36
        }
      ]
    },
    {
      "cell_type": "markdown",
      "metadata": {
        "id": "PU_dIZpOy-Uk",
        "colab_type": "text"
      },
      "source": [
        "Use a broadcast to set all elements that are greater than 4 to 100"
      ]
    },
    {
      "cell_type": "code",
      "metadata": {
        "id": "wzY4ccrRyof3",
        "colab_type": "code",
        "colab": {}
      },
      "source": [
        "arr[elements_gt_4] = 100"
      ],
      "execution_count": 0,
      "outputs": []
    },
    {
      "cell_type": "code",
      "metadata": {
        "id": "0woPlWYiysNP",
        "colab_type": "code",
        "outputId": "5cc9bdb3-6b23-4bb6-87d2-2ea33b420775",
        "colab": {
          "base_uri": "https://localhost:8080/",
          "height": 35
        }
      },
      "source": [
        "arr"
      ],
      "execution_count": 0,
      "outputs": [
        {
          "output_type": "execute_result",
          "data": {
            "text/plain": [
              "array([  0,   1,   2,   3,   4, 100, 100, 100, 100, 100, 100])"
            ]
          },
          "metadata": {
            "tags": []
          },
          "execution_count": 38
        }
      ]
    },
    {
      "cell_type": "markdown",
      "metadata": {
        "id": "JgHMS2qEzTrl",
        "colab_type": "text"
      },
      "source": [
        "Here is a shorthand way of doing it"
      ]
    },
    {
      "cell_type": "code",
      "metadata": {
        "id": "JKxEh51WysnP",
        "colab_type": "code",
        "colab": {}
      },
      "source": [
        "arr = np.arange(0, 11)"
      ],
      "execution_count": 0,
      "outputs": []
    },
    {
      "cell_type": "code",
      "metadata": {
        "id": "PMwS3QrWzX3A",
        "colab_type": "code",
        "colab": {}
      },
      "source": [
        "arr[arr > 4] = 200"
      ],
      "execution_count": 0,
      "outputs": []
    },
    {
      "cell_type": "code",
      "metadata": {
        "id": "k9LyDBjvzbwf",
        "colab_type": "code",
        "outputId": "91d9211b-116d-4e0f-8cb4-7de080abc574",
        "colab": {
          "base_uri": "https://localhost:8080/",
          "height": 35
        }
      },
      "source": [
        "arr"
      ],
      "execution_count": 0,
      "outputs": [
        {
          "output_type": "execute_result",
          "data": {
            "text/plain": [
              "array([  0,   1,   2,   3,   4, 200, 200, 200, 200, 200, 200])"
            ]
          },
          "metadata": {
            "tags": []
          },
          "execution_count": 41
        }
      ]
    },
    {
      "cell_type": "code",
      "metadata": {
        "id": "ESpIiG03zcNv",
        "colab_type": "code",
        "colab": {}
      },
      "source": [
        ""
      ],
      "execution_count": 0,
      "outputs": []
    }
  ]
}