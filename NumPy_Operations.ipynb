{
  "nbformat": 4,
  "nbformat_minor": 0,
  "metadata": {
    "colab": {
      "name": "NumPy Operations.ipynb",
      "provenance": [],
      "include_colab_link": true
    },
    "kernelspec": {
      "name": "python3",
      "display_name": "Python 3"
    }
  },
  "cells": [
    {
      "cell_type": "markdown",
      "metadata": {
        "id": "view-in-github",
        "colab_type": "text"
      },
      "source": [
        "<a href=\"https://colab.research.google.com/github/DeanPhillipsOKC/numpy-notes/blob/master/NumPy_Operations.ipynb\" target=\"_parent\"><img src=\"https://colab.research.google.com/assets/colab-badge.svg\" alt=\"Open In Colab\"/></a>"
      ]
    },
    {
      "cell_type": "markdown",
      "metadata": {
        "id": "dd6MnOhwKnN7",
        "colab_type": "text"
      },
      "source": [
        "# NumPy Iperations"
      ]
    },
    {
      "cell_type": "code",
      "metadata": {
        "id": "IPp4MB7aKl8Z",
        "colab_type": "code",
        "colab": {}
      },
      "source": [
        "import numpy as np"
      ],
      "execution_count": 0,
      "outputs": []
    },
    {
      "cell_type": "markdown",
      "metadata": {
        "id": "Hn6dx7q7LGqS",
        "colab_type": "text"
      },
      "source": [
        "## Arrays and scalar math"
      ]
    },
    {
      "cell_type": "markdown",
      "metadata": {
        "id": "UKt-f7EKLWBQ",
        "colab_type": "text"
      },
      "source": [
        "When doing math where one operand is a numpy array, and the other is a scalar, the operation is performend on an element by element basis."
      ]
    },
    {
      "cell_type": "code",
      "metadata": {
        "id": "TqGsiaFvKrcR",
        "colab_type": "code",
        "colab": {}
      },
      "source": [
        "arr = np.arange(0, 11)"
      ],
      "execution_count": 0,
      "outputs": []
    },
    {
      "cell_type": "code",
      "metadata": {
        "id": "wJxO6NimLOmw",
        "colab_type": "code",
        "outputId": "0af9378d-cbc1-4794-9601-4f782098c9e5",
        "colab": {
          "base_uri": "https://localhost:8080/",
          "height": 34
        }
      },
      "source": [
        "arr + 5"
      ],
      "execution_count": 0,
      "outputs": [
        {
          "output_type": "execute_result",
          "data": {
            "text/plain": [
              "array([ 5,  6,  7,  8,  9, 10, 11, 12, 13, 14, 15])"
            ]
          },
          "metadata": {
            "tags": []
          },
          "execution_count": 3
        }
      ]
    },
    {
      "cell_type": "code",
      "metadata": {
        "id": "R8hsj1L4LPrJ",
        "colab_type": "code",
        "outputId": "723c4425-c3b6-4d81-984b-2fbac6032122",
        "colab": {
          "base_uri": "https://localhost:8080/",
          "height": 34
        }
      },
      "source": [
        "arr - 3"
      ],
      "execution_count": 0,
      "outputs": [
        {
          "output_type": "execute_result",
          "data": {
            "text/plain": [
              "array([-3, -2, -1,  0,  1,  2,  3,  4,  5,  6,  7])"
            ]
          },
          "metadata": {
            "tags": []
          },
          "execution_count": 4
        }
      ]
    },
    {
      "cell_type": "code",
      "metadata": {
        "id": "bv53IO-dLQxI",
        "colab_type": "code",
        "outputId": "c463ec38-24db-4bb5-d6c5-fb924a22d496",
        "colab": {
          "base_uri": "https://localhost:8080/",
          "height": 34
        }
      },
      "source": [
        "arr * 2"
      ],
      "execution_count": 0,
      "outputs": [
        {
          "output_type": "execute_result",
          "data": {
            "text/plain": [
              "array([ 0,  2,  4,  6,  8, 10, 12, 14, 16, 18, 20])"
            ]
          },
          "metadata": {
            "tags": []
          },
          "execution_count": 5
        }
      ]
    },
    {
      "cell_type": "code",
      "metadata": {
        "id": "6p9yQVceLS6w",
        "colab_type": "code",
        "outputId": "51d1ecaf-312b-4aa5-b056-8e4813c40d8f",
        "colab": {
          "base_uri": "https://localhost:8080/",
          "height": 34
        }
      },
      "source": [
        "arr / 2"
      ],
      "execution_count": 0,
      "outputs": [
        {
          "output_type": "execute_result",
          "data": {
            "text/plain": [
              "array([0. , 0.5, 1. , 1.5, 2. , 2.5, 3. , 3.5, 4. , 4.5, 5. ])"
            ]
          },
          "metadata": {
            "tags": []
          },
          "execution_count": 6
        }
      ]
    },
    {
      "cell_type": "markdown",
      "metadata": {
        "id": "GgHCYMifLhAp",
        "colab_type": "text"
      },
      "source": [
        "## Array on array mathematical operations"
      ]
    },
    {
      "cell_type": "markdown",
      "metadata": {
        "id": "3FW3T9g0Loy3",
        "colab_type": "text"
      },
      "source": [
        "When doing math where both operands are arrays, the math is done on an element by element basis (just like with scalar)\n",
        "\n",
        "NOTE: To do array on array math, both must be the same shape"
      ]
    },
    {
      "cell_type": "code",
      "metadata": {
        "id": "pN6zxwEgLTxI",
        "colab_type": "code",
        "colab": {}
      },
      "source": [
        "arr = np.arange(0, 11)"
      ],
      "execution_count": 0,
      "outputs": []
    },
    {
      "cell_type": "code",
      "metadata": {
        "id": "RCVVP-vhL7ow",
        "colab_type": "code",
        "colab": {}
      },
      "source": [
        "arr2 = np.arange(10, 21)"
      ],
      "execution_count": 0,
      "outputs": []
    },
    {
      "cell_type": "code",
      "metadata": {
        "id": "d876SUwuL_33",
        "colab_type": "code",
        "colab": {}
      },
      "source": [
        "arr3 = np.arange(0, 5) # Not the same shape as the others"
      ],
      "execution_count": 0,
      "outputs": []
    },
    {
      "cell_type": "code",
      "metadata": {
        "id": "tmPT_68GME7Q",
        "colab_type": "code",
        "outputId": "d69fdac2-cd14-43a5-f66f-be9a02a79b2c",
        "colab": {
          "base_uri": "https://localhost:8080/",
          "height": 34
        }
      },
      "source": [
        "arr + arr2"
      ],
      "execution_count": 0,
      "outputs": [
        {
          "output_type": "execute_result",
          "data": {
            "text/plain": [
              "array([10, 12, 14, 16, 18, 20, 22, 24, 26, 28, 30])"
            ]
          },
          "metadata": {
            "tags": []
          },
          "execution_count": 10
        }
      ]
    },
    {
      "cell_type": "code",
      "metadata": {
        "id": "w-SwZkGmMGrQ",
        "colab_type": "code",
        "outputId": "405f5ebe-8ea1-4f31-f261-1c8b8b4195d7",
        "colab": {
          "base_uri": "https://localhost:8080/",
          "height": 34
        }
      },
      "source": [
        "arr2 - arr"
      ],
      "execution_count": 0,
      "outputs": [
        {
          "output_type": "execute_result",
          "data": {
            "text/plain": [
              "array([10, 10, 10, 10, 10, 10, 10, 10, 10, 10, 10])"
            ]
          },
          "metadata": {
            "tags": []
          },
          "execution_count": 11
        }
      ]
    },
    {
      "cell_type": "code",
      "metadata": {
        "id": "nHGy25JLMLD4",
        "colab_type": "code",
        "outputId": "4d2ec12a-73d7-44dd-edef-c9bda23adfcc",
        "colab": {
          "base_uri": "https://localhost:8080/",
          "height": 163
        }
      },
      "source": [
        "arr + arr3"
      ],
      "execution_count": 0,
      "outputs": [
        {
          "output_type": "error",
          "ename": "ValueError",
          "evalue": "ignored",
          "traceback": [
            "\u001b[0;31m---------------------------------------------------------------------------\u001b[0m",
            "\u001b[0;31mValueError\u001b[0m                                Traceback (most recent call last)",
            "\u001b[0;32m<ipython-input-12-bcbcd6996506>\u001b[0m in \u001b[0;36m<module>\u001b[0;34m()\u001b[0m\n\u001b[0;32m----> 1\u001b[0;31m \u001b[0marr\u001b[0m \u001b[0;34m+\u001b[0m \u001b[0marr3\u001b[0m\u001b[0;34m\u001b[0m\u001b[0;34m\u001b[0m\u001b[0m\n\u001b[0m",
            "\u001b[0;31mValueError\u001b[0m: operands could not be broadcast together with shapes (11,) (5,) "
          ]
        }
      ]
    },
    {
      "cell_type": "code",
      "metadata": {
        "id": "CWpwxDriMOfY",
        "colab_type": "code",
        "outputId": "46d6e717-2e2d-495e-977f-f82bc4096071",
        "colab": {
          "base_uri": "https://localhost:8080/",
          "height": 163
        }
      },
      "source": [
        "arr * arr3"
      ],
      "execution_count": 0,
      "outputs": [
        {
          "output_type": "error",
          "ename": "ValueError",
          "evalue": "ignored",
          "traceback": [
            "\u001b[0;31m---------------------------------------------------------------------------\u001b[0m",
            "\u001b[0;31mValueError\u001b[0m                                Traceback (most recent call last)",
            "\u001b[0;32m<ipython-input-13-bb0ef3ef61c9>\u001b[0m in \u001b[0;36m<module>\u001b[0;34m()\u001b[0m\n\u001b[0;32m----> 1\u001b[0;31m \u001b[0marr\u001b[0m \u001b[0;34m*\u001b[0m \u001b[0marr3\u001b[0m\u001b[0;34m\u001b[0m\u001b[0;34m\u001b[0m\u001b[0m\n\u001b[0m",
            "\u001b[0;31mValueError\u001b[0m: operands could not be broadcast together with shapes (11,) (5,) "
          ]
        }
      ]
    },
    {
      "cell_type": "code",
      "metadata": {
        "id": "iQmtEovCMU-n",
        "colab_type": "code",
        "outputId": "9736d78b-9af7-4162-90b0-57b3a402cc1a",
        "colab": {
          "base_uri": "https://localhost:8080/",
          "height": 34
        }
      },
      "source": [
        "arr * arr2"
      ],
      "execution_count": 0,
      "outputs": [
        {
          "output_type": "execute_result",
          "data": {
            "text/plain": [
              "array([  0,  11,  24,  39,  56,  75,  96, 119, 144, 171, 200])"
            ]
          },
          "metadata": {
            "tags": []
          },
          "execution_count": 14
        }
      ]
    },
    {
      "cell_type": "code",
      "metadata": {
        "id": "doiOcnQPNRgf",
        "colab_type": "code",
        "outputId": "61df4abe-f83d-4808-d2a0-a409fee065e1",
        "colab": {
          "base_uri": "https://localhost:8080/",
          "height": 68
        }
      },
      "source": [
        "arr / arr2"
      ],
      "execution_count": 0,
      "outputs": [
        {
          "output_type": "execute_result",
          "data": {
            "text/plain": [
              "array([0.        , 0.09090909, 0.16666667, 0.23076923, 0.28571429,\n",
              "       0.33333333, 0.375     , 0.41176471, 0.44444444, 0.47368421,\n",
              "       0.5       ])"
            ]
          },
          "metadata": {
            "tags": []
          },
          "execution_count": 16
        }
      ]
    },
    {
      "cell_type": "markdown",
      "metadata": {
        "id": "fC5DbGAxNhbX",
        "colab_type": "text"
      },
      "source": [
        "NumPy handles division by zero for array division by setting the offending element to inf (if the numerator is also zero then it will be NaN), and displaying a runtime warning (not error)"
      ]
    },
    {
      "cell_type": "code",
      "metadata": {
        "id": "abx9iG6ANQmo",
        "colab_type": "code",
        "outputId": "a0220a7f-f5ea-49e0-bb89-3e84bfe47d6d",
        "colab": {
          "base_uri": "https://localhost:8080/",
          "height": 102
        }
      },
      "source": [
        "arr2 / arr # First element will be inf because denominator is zero, and numerator is not"
      ],
      "execution_count": 0,
      "outputs": [
        {
          "output_type": "stream",
          "text": [
            "/usr/local/lib/python3.6/dist-packages/ipykernel_launcher.py:1: RuntimeWarning: divide by zero encountered in true_divide\n",
            "  \"\"\"Entry point for launching an IPython kernel.\n"
          ],
          "name": "stderr"
        },
        {
          "output_type": "execute_result",
          "data": {
            "text/plain": [
              "array([        inf, 11.        ,  6.        ,  4.33333333,  3.5       ,\n",
              "        3.        ,  2.66666667,  2.42857143,  2.25      ,  2.11111111,\n",
              "        2.        ])"
            ]
          },
          "metadata": {
            "tags": []
          },
          "execution_count": 15
        }
      ]
    },
    {
      "cell_type": "code",
      "metadata": {
        "id": "Ad2zQO9ONbVo",
        "colab_type": "code",
        "outputId": "396f3927-d47d-4e3c-e5b8-82e8a5ee58a5",
        "colab": {
          "base_uri": "https://localhost:8080/",
          "height": 68
        }
      },
      "source": [
        "arr / arr # First element will be nan, because both the denominator, and numerator are zero"
      ],
      "execution_count": 0,
      "outputs": [
        {
          "output_type": "stream",
          "text": [
            "/usr/local/lib/python3.6/dist-packages/ipykernel_launcher.py:1: RuntimeWarning: invalid value encountered in true_divide\n",
            "  \"\"\"Entry point for launching an IPython kernel.\n"
          ],
          "name": "stderr"
        },
        {
          "output_type": "execute_result",
          "data": {
            "text/plain": [
              "array([nan,  1.,  1.,  1.,  1.,  1.,  1.,  1.,  1.,  1.,  1.])"
            ]
          },
          "metadata": {
            "tags": []
          },
          "execution_count": 18
        }
      ]
    },
    {
      "cell_type": "markdown",
      "metadata": {
        "id": "AR2OKaNbPWU8",
        "colab_type": "text"
      },
      "source": [
        "## Other Mathematical Functions"
      ]
    },
    {
      "cell_type": "markdown",
      "metadata": {
        "id": "WsqZq9NvPqnY",
        "colab_type": "text"
      },
      "source": [
        "This is just a few examples of other kinds of mathematical functions (e.g., square root, trigonometric,etc...)\n",
        "\n",
        "Note: Behavior for array elements that would be undefined for that operation behave similarly to divison by zero (i.e. runtime warning is shown, and result is inf, or nan)"
      ]
    },
    {
      "cell_type": "code",
      "metadata": {
        "id": "KYFFVYe9ORVf",
        "colab_type": "code",
        "colab": {}
      },
      "source": [
        "arr = np.arange(-5, 6)"
      ],
      "execution_count": 0,
      "outputs": []
    },
    {
      "cell_type": "code",
      "metadata": {
        "id": "1s3yn8uiPZNG",
        "colab_type": "code",
        "outputId": "ac7850f3-6d7f-4baf-ac49-159731911e1c",
        "colab": {
          "base_uri": "https://localhost:8080/",
          "height": 102
        }
      },
      "source": [
        "np.sqrt(arr)"
      ],
      "execution_count": 0,
      "outputs": [
        {
          "output_type": "stream",
          "text": [
            "/usr/local/lib/python3.6/dist-packages/ipykernel_launcher.py:1: RuntimeWarning: invalid value encountered in sqrt\n",
            "  \"\"\"Entry point for launching an IPython kernel.\n"
          ],
          "name": "stderr"
        },
        {
          "output_type": "execute_result",
          "data": {
            "text/plain": [
              "array([       nan,        nan,        nan,        nan,        nan,\n",
              "       0.        , 1.        , 1.41421356, 1.73205081, 2.        ,\n",
              "       2.23606798])"
            ]
          },
          "metadata": {
            "tags": []
          },
          "execution_count": 20
        }
      ]
    },
    {
      "cell_type": "code",
      "metadata": {
        "id": "LlLcHhcZPgwv",
        "colab_type": "code",
        "outputId": "02889ce2-9581-4f86-9e6c-db9fe9906b3a",
        "colab": {
          "base_uri": "https://localhost:8080/",
          "height": 34
        }
      },
      "source": [
        "np.square(arr)"
      ],
      "execution_count": 0,
      "outputs": [
        {
          "output_type": "execute_result",
          "data": {
            "text/plain": [
              "array([25, 16,  9,  4,  1,  0,  1,  4,  9, 16, 25])"
            ]
          },
          "metadata": {
            "tags": []
          },
          "execution_count": 21
        }
      ]
    },
    {
      "cell_type": "code",
      "metadata": {
        "id": "6L1yYEirPj8H",
        "colab_type": "code",
        "outputId": "d438e96b-596d-489b-f2d6-9a2623918982",
        "colab": {
          "base_uri": "https://localhost:8080/",
          "height": 68
        }
      },
      "source": [
        "np.sin(arr)"
      ],
      "execution_count": 0,
      "outputs": [
        {
          "output_type": "execute_result",
          "data": {
            "text/plain": [
              "array([ 0.95892427,  0.7568025 , -0.14112001, -0.90929743, -0.84147098,\n",
              "        0.        ,  0.84147098,  0.90929743,  0.14112001, -0.7568025 ,\n",
              "       -0.95892427])"
            ]
          },
          "metadata": {
            "tags": []
          },
          "execution_count": 22
        }
      ]
    },
    {
      "cell_type": "code",
      "metadata": {
        "id": "ppaJHN2RPlPG",
        "colab_type": "code",
        "outputId": "5f54bb14-778e-4dcb-e3dc-93eab10c0fbc",
        "colab": {
          "base_uri": "https://localhost:8080/",
          "height": 136
        }
      },
      "source": [
        "np.log(arr)"
      ],
      "execution_count": 0,
      "outputs": [
        {
          "output_type": "stream",
          "text": [
            "/usr/local/lib/python3.6/dist-packages/ipykernel_launcher.py:1: RuntimeWarning: divide by zero encountered in log\n",
            "  \"\"\"Entry point for launching an IPython kernel.\n",
            "/usr/local/lib/python3.6/dist-packages/ipykernel_launcher.py:1: RuntimeWarning: invalid value encountered in log\n",
            "  \"\"\"Entry point for launching an IPython kernel.\n"
          ],
          "name": "stderr"
        },
        {
          "output_type": "execute_result",
          "data": {
            "text/plain": [
              "array([       nan,        nan,        nan,        nan,        nan,\n",
              "             -inf, 0.        , 0.69314718, 1.09861229, 1.38629436,\n",
              "       1.60943791])"
            ]
          },
          "metadata": {
            "tags": []
          },
          "execution_count": 23
        }
      ]
    },
    {
      "cell_type": "markdown",
      "metadata": {
        "id": "twT5zcE8QJ5b",
        "colab_type": "text"
      },
      "source": [
        "## Array Summary Statistics"
      ]
    },
    {
      "cell_type": "code",
      "metadata": {
        "id": "mQKcDr4ZPmou",
        "colab_type": "code",
        "colab": {}
      },
      "source": [
        "arr = np.arange(-5, 6)"
      ],
      "execution_count": 0,
      "outputs": []
    },
    {
      "cell_type": "code",
      "metadata": {
        "id": "MwC67EgDQUDd",
        "colab_type": "code",
        "outputId": "2f1a4522-7faa-460b-f85b-4d50eeec38fe",
        "colab": {
          "base_uri": "https://localhost:8080/",
          "height": 34
        }
      },
      "source": [
        "arr.sum()"
      ],
      "execution_count": 0,
      "outputs": [
        {
          "output_type": "execute_result",
          "data": {
            "text/plain": [
              "0"
            ]
          },
          "metadata": {
            "tags": []
          },
          "execution_count": 26
        }
      ]
    },
    {
      "cell_type": "code",
      "metadata": {
        "id": "6L5Lu9JCQV4F",
        "colab_type": "code",
        "outputId": "a033cf16-c348-4bb2-f076-648406a3181c",
        "colab": {
          "base_uri": "https://localhost:8080/",
          "height": 34
        }
      },
      "source": [
        "arr.mean()"
      ],
      "execution_count": 0,
      "outputs": [
        {
          "output_type": "execute_result",
          "data": {
            "text/plain": [
              "0.0"
            ]
          },
          "metadata": {
            "tags": []
          },
          "execution_count": 27
        }
      ]
    },
    {
      "cell_type": "code",
      "metadata": {
        "id": "PuCt4iQ1QW--",
        "colab_type": "code",
        "outputId": "84a42034-bb02-49f6-94ac-9d3ce0fbf236",
        "colab": {
          "base_uri": "https://localhost:8080/",
          "height": 34
        }
      },
      "source": [
        "arr.min()"
      ],
      "execution_count": 0,
      "outputs": [
        {
          "output_type": "execute_result",
          "data": {
            "text/plain": [
              "-5"
            ]
          },
          "metadata": {
            "tags": []
          },
          "execution_count": 28
        }
      ]
    },
    {
      "cell_type": "code",
      "metadata": {
        "id": "C1h2-QhiQZcO",
        "colab_type": "code",
        "outputId": "c7112bb0-deed-474d-9040-dcfae8885a59",
        "colab": {
          "base_uri": "https://localhost:8080/",
          "height": 34
        }
      },
      "source": [
        "arr.max()"
      ],
      "execution_count": 0,
      "outputs": [
        {
          "output_type": "execute_result",
          "data": {
            "text/plain": [
              "5"
            ]
          },
          "metadata": {
            "tags": []
          },
          "execution_count": 29
        }
      ]
    },
    {
      "cell_type": "code",
      "metadata": {
        "id": "LgUuilIkQaKe",
        "colab_type": "code",
        "outputId": "cd4ede23-8c53-4c1f-a7a7-163314a22d2d",
        "colab": {
          "base_uri": "https://localhost:8080/",
          "height": 34
        }
      },
      "source": [
        "arr.var() # Statistical variance"
      ],
      "execution_count": 0,
      "outputs": [
        {
          "output_type": "execute_result",
          "data": {
            "text/plain": [
              "10.0"
            ]
          },
          "metadata": {
            "tags": []
          },
          "execution_count": 32
        }
      ]
    },
    {
      "cell_type": "code",
      "metadata": {
        "id": "V1eG7xLwQbp2",
        "colab_type": "code",
        "outputId": "c0b00029-c171-416e-a27c-8a4bcacf0889",
        "colab": {
          "base_uri": "https://localhost:8080/",
          "height": 34
        }
      },
      "source": [
        "arr.std() # Standard deviation"
      ],
      "execution_count": 0,
      "outputs": [
        {
          "output_type": "execute_result",
          "data": {
            "text/plain": [
              "3.1622776601683795"
            ]
          },
          "metadata": {
            "tags": []
          },
          "execution_count": 33
        }
      ]
    },
    {
      "cell_type": "markdown",
      "metadata": {
        "id": "3LTWGBN1RAhq",
        "colab_type": "text"
      },
      "source": [
        "## Summary Statistics for Multidimensional Arrays"
      ]
    },
    {
      "cell_type": "code",
      "metadata": {
        "id": "VR_4YOocQc1t",
        "colab_type": "code",
        "colab": {}
      },
      "source": [
        "arr2d = np.arange(0, 25).reshape(5, 5)"
      ],
      "execution_count": 0,
      "outputs": []
    },
    {
      "cell_type": "code",
      "metadata": {
        "id": "l6lrTtQrRd6W",
        "colab_type": "code",
        "outputId": "cf3d7537-da08-4a35-ac04-2c8fcbe3f5e0",
        "colab": {
          "base_uri": "https://localhost:8080/",
          "height": 34
        }
      },
      "source": [
        "arr2d.shape"
      ],
      "execution_count": 0,
      "outputs": [
        {
          "output_type": "execute_result",
          "data": {
            "text/plain": [
              "(5, 5)"
            ]
          },
          "metadata": {
            "tags": []
          },
          "execution_count": 38
        }
      ]
    },
    {
      "cell_type": "code",
      "metadata": {
        "id": "tjOAv4nVRu9l",
        "colab_type": "code",
        "outputId": "9ac3e434-f558-4c48-9ef2-d37cf95ab04a",
        "colab": {
          "base_uri": "https://localhost:8080/",
          "height": 102
        }
      },
      "source": [
        "arr2d"
      ],
      "execution_count": 0,
      "outputs": [
        {
          "output_type": "execute_result",
          "data": {
            "text/plain": [
              "array([[ 0,  1,  2,  3,  4],\n",
              "       [ 5,  6,  7,  8,  9],\n",
              "       [10, 11, 12, 13, 14],\n",
              "       [15, 16, 17, 18, 19],\n",
              "       [20, 21, 22, 23, 24]])"
            ]
          },
          "metadata": {
            "tags": []
          },
          "execution_count": 42
        }
      ]
    },
    {
      "cell_type": "markdown",
      "metadata": {
        "id": "NXcoRWeKRyS5",
        "colab_type": "text"
      },
      "source": [
        "Sum all elements in the entire array"
      ]
    },
    {
      "cell_type": "code",
      "metadata": {
        "id": "-5vo6_AQRlgN",
        "colab_type": "code",
        "outputId": "c14821b2-9ac7-4143-98fc-ecf99e89fb4a",
        "colab": {
          "base_uri": "https://localhost:8080/",
          "height": 34
        }
      },
      "source": [
        "arr2d.sum()"
      ],
      "execution_count": 0,
      "outputs": [
        {
          "output_type": "execute_result",
          "data": {
            "text/plain": [
              "300"
            ]
          },
          "metadata": {
            "tags": []
          },
          "execution_count": 39
        }
      ]
    },
    {
      "cell_type": "markdown",
      "metadata": {
        "id": "iZ_NhfyuR223",
        "colab_type": "text"
      },
      "source": [
        "Sum the columns.  This is confusing, but axis refers to the position of the shape specifier (in this case arr2d(x, y) it represents x which is at position zero.  While the result is technically all of the columns being summed, we are basically asking numpy to perform the sum across the rows"
      ]
    },
    {
      "cell_type": "code",
      "metadata": {
        "id": "MjTcADmKRo3s",
        "colab_type": "code",
        "outputId": "36c9583b-816a-4f75-c119-3a9d4ae30ee6",
        "colab": {
          "base_uri": "https://localhost:8080/",
          "height": 34
        }
      },
      "source": [
        "arr2d.sum(axis=0)"
      ],
      "execution_count": 0,
      "outputs": [
        {
          "output_type": "execute_result",
          "data": {
            "text/plain": [
              "array([50, 55, 60, 65, 70])"
            ]
          },
          "metadata": {
            "tags": []
          },
          "execution_count": 40
        }
      ]
    },
    {
      "cell_type": "markdown",
      "metadata": {
        "id": "VV3tZ4PQSe3k",
        "colab_type": "text"
      },
      "source": [
        "Sum the rows. This is confusing, but axis refers to the position of the shape specifier (in this case arr2d(x, y) it represents y which is at position zero. While the result is technically all of the rows being summed, we are basically asking numpy to perform the sum across the columns"
      ]
    },
    {
      "cell_type": "code",
      "metadata": {
        "id": "yWl4ZO0tRq19",
        "colab_type": "code",
        "outputId": "f5cf32e8-6b79-412c-8619-6318e63ac8e2",
        "colab": {
          "base_uri": "https://localhost:8080/",
          "height": 34
        }
      },
      "source": [
        "arr2d.sum(axis=1)"
      ],
      "execution_count": 0,
      "outputs": [
        {
          "output_type": "execute_result",
          "data": {
            "text/plain": [
              "array([ 10,  35,  60,  85, 110])"
            ]
          },
          "metadata": {
            "tags": []
          },
          "execution_count": 41
        }
      ]
    },
    {
      "cell_type": "code",
      "metadata": {
        "id": "aqr2SxrhRsfl",
        "colab_type": "code",
        "colab": {}
      },
      "source": [
        ""
      ],
      "execution_count": 0,
      "outputs": []
    }
  ]
}